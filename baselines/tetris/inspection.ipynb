{
 "cells": [
  {
   "cell_type": "code",
   "id": "initial_id",
   "metadata": {
    "collapsed": true,
    "ExecuteTime": {
     "end_time": "2024-11-03T07:48:39.255842Z",
     "start_time": "2024-11-03T07:48:39.253635Z"
    }
   },
   "source": [
    "import pickle\n",
    "import json\n",
    "import os"
   ],
   "outputs": [],
   "execution_count": 1
  },
  {
   "metadata": {
    "ExecuteTime": {
     "end_time": "2024-11-03T07:49:11.585121Z",
     "start_time": "2024-11-03T07:49:11.492491Z"
    }
   },
   "cell_type": "code",
   "source": [
    "with open('./data/jordan_wigner/LiH_UCCSD.pickle', 'rb') as f:\n",
    "    data = pickle.load(f)"
   ],
   "id": "193ec8ebf04090ff",
   "outputs": [],
   "execution_count": 2
  },
  {
   "metadata": {
    "ExecuteTime": {
     "end_time": "2024-11-03T07:49:51.318564Z",
     "start_time": "2024-11-03T07:49:51.316568Z"
    }
   },
   "cell_type": "code",
   "source": [
    "data[0][0].coeff\n",
    "\n",
    "\n"
   ],
   "id": "577554b1d604bc25",
   "outputs": [
    {
     "data": {
      "text/plain": [
       "0.0"
      ]
     },
     "execution_count": 10,
     "metadata": {},
     "output_type": "execute_result"
    }
   ],
   "execution_count": 10
  },
  {
   "metadata": {
    "ExecuteTime": {
     "end_time": "2024-11-03T07:50:50.878781Z",
     "start_time": "2024-11-03T07:50:50.876571Z"
    }
   },
   "cell_type": "code",
   "source": "data[0][0]",
   "id": "4943e76c7f6e59f3",
   "outputs": [
    {
     "data": {
      "text/plain": [
       "IIIIIIIIIXZY"
      ]
     },
     "execution_count": 12,
     "metadata": {},
     "output_type": "execute_result"
    }
   ],
   "execution_count": 12
  },
  {
   "metadata": {
    "ExecuteTime": {
     "end_time": "2024-11-03T07:51:14.405372Z",
     "start_time": "2024-11-03T07:51:14.402096Z"
    }
   },
   "cell_type": "code",
   "source": "type(data[0][1])",
   "id": "fe8ab00843ea971b",
   "outputs": [
    {
     "data": {
      "text/plain": [
       "benchmark.mypauli.pauliString"
      ]
     },
     "execution_count": 14,
     "metadata": {},
     "output_type": "execute_result"
    }
   ],
   "execution_count": 14
  },
  {
   "metadata": {
    "ExecuteTime": {
     "end_time": "2024-11-03T07:50:46.865300Z",
     "start_time": "2024-11-03T07:50:46.863848Z"
    }
   },
   "cell_type": "code",
   "source": "",
   "id": "86e87ffdd93aaf2d",
   "outputs": [],
   "execution_count": null
  },
  {
   "metadata": {
    "ExecuteTime": {
     "end_time": "2024-11-03T07:50:47.021588Z",
     "start_time": "2024-11-03T07:50:47.020204Z"
    }
   },
   "cell_type": "code",
   "source": "",
   "id": "ec17e86a7e156a0c",
   "outputs": [],
   "execution_count": null
  },
  {
   "metadata": {},
   "cell_type": "code",
   "outputs": [],
   "execution_count": null,
   "source": "",
   "id": "6fe92f258f1879f5"
  }
 ],
 "metadata": {
  "kernelspec": {
   "display_name": "Python 3",
   "language": "python",
   "name": "python3"
  },
  "language_info": {
   "codemirror_mode": {
    "name": "ipython",
    "version": 2
   },
   "file_extension": ".py",
   "mimetype": "text/x-python",
   "name": "python",
   "nbconvert_exporter": "python",
   "pygments_lexer": "ipython2",
   "version": "2.7.6"
  }
 },
 "nbformat": 4,
 "nbformat_minor": 5
}
