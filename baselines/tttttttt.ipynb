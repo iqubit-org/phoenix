{
 "cells": [
  {
   "cell_type": "code",
   "execution_count": 8,
   "metadata": {},
   "outputs": [],
   "source": [
    "from tetris.utils.hardware import load_coupling_map, load_sycamore_graph, load_graph\n",
    "import numpy as np"
   ]
  },
  {
   "cell_type": "code",
   "execution_count": 2,
   "metadata": {},
   "outputs": [],
   "source": [
    "G, C = load_graph('manhattan')"
   ]
  },
  {
   "cell_type": "code",
   "execution_count": 10,
   "metadata": {},
   "outputs": [
    {
     "data": {
      "text/plain": [
       "array([0.e+00, 1.e+00, 1.e+06])"
      ]
     },
     "execution_count": 10,
     "metadata": {},
     "output_type": "execute_result"
    }
   ],
   "source": [
    "np.unique(C)"
   ]
  },
  {
   "cell_type": "code",
   "execution_count": 16,
   "metadata": {},
   "outputs": [
    {
     "data": {
      "text/plain": [
       "array([0.e+00, 1.e+06, 1.e+06, 1.e+06, 1.e+06, 1.e+06, 1.e+06, 1.e+06,\n",
       "       1.e+00, 1.e+06, 1.e+06, 1.e+06, 1.e+06, 1.e+06, 1.e+06, 1.e+06,\n",
       "       1.e+06, 1.e+06, 1.e+06, 1.e+06, 1.e+06, 1.e+06, 1.e+06, 1.e+06,\n",
       "       1.e+06, 1.e+06, 1.e+06, 1.e+06, 1.e+06, 1.e+06, 1.e+06, 1.e+06,\n",
       "       1.e+06, 1.e+06, 1.e+06, 1.e+06, 1.e+06, 1.e+06, 1.e+06, 1.e+06,\n",
       "       1.e+06, 1.e+06, 1.e+06, 1.e+06, 1.e+06, 1.e+06, 1.e+06, 1.e+06,\n",
       "       1.e+06, 1.e+06, 1.e+06, 1.e+06, 1.e+06, 1.e+06, 1.e+06, 1.e+06,\n",
       "       1.e+06, 1.e+06, 1.e+06, 1.e+06, 1.e+06, 1.e+06, 1.e+06, 1.e+06])"
      ]
     },
     "execution_count": 16,
     "metadata": {},
     "output_type": "execute_result"
    }
   ],
   "source": [
    "(C[0])"
   ]
  },
  {
   "cell_type": "code",
   "execution_count": 14,
   "metadata": {},
   "outputs": [
    {
     "data": {
      "text/plain": [
       "array([0., 0., 0., 0., 0., 0., 0., 0., 1., 0., 0., 0., 0., 0., 0., 0., 0.,\n",
       "       0., 0., 0., 0., 0., 0., 0., 0., 0., 0., 0., 0., 0., 0., 0., 0., 0.,\n",
       "       0., 0., 0., 0., 0., 0., 0., 0., 0., 0., 0., 0., 0., 0., 0., 0., 0.,\n",
       "       0., 0., 0., 0., 0., 0., 0., 0., 0., 0., 0., 0., 0.])"
      ]
     },
     "execution_count": 14,
     "metadata": {},
     "output_type": "execute_result"
    }
   ],
   "source": [
    "G[0]"
   ]
  },
  {
   "cell_type": "code",
   "execution_count": 6,
   "metadata": {},
   "outputs": [],
   "source": [
    "G, C = load_sycamore_graph(False)"
   ]
  },
  {
   "cell_type": "code",
   "execution_count": 7,
   "metadata": {},
   "outputs": [
    {
     "data": {
      "text/plain": [
       "array([[      0., 1000000., 1000000., ..., 1000000., 1000000., 1000000.],\n",
       "       [1000000.,       0., 1000000., ..., 1000000., 1000000., 1000000.],\n",
       "       [1000000., 1000000.,       0., ..., 1000000., 1000000., 1000000.],\n",
       "       ...,\n",
       "       [1000000., 1000000., 1000000., ...,       0., 1000000., 1000000.],\n",
       "       [1000000., 1000000., 1000000., ..., 1000000.,       0., 1000000.],\n",
       "       [1000000., 1000000., 1000000., ..., 1000000., 1000000.,       0.]])"
      ]
     },
     "execution_count": 7,
     "metadata": {},
     "output_type": "execute_result"
    }
   ],
   "source": [
    "C"
   ]
  },
  {
   "cell_type": "code",
   "execution_count": null,
   "metadata": {},
   "outputs": [],
   "source": []
  }
 ],
 "metadata": {
  "kernelspec": {
   "display_name": "base",
   "language": "python",
   "name": "python3"
  },
  "language_info": {
   "codemirror_mode": {
    "name": "ipython",
    "version": 3
   },
   "file_extension": ".py",
   "mimetype": "text/x-python",
   "name": "python",
   "nbconvert_exporter": "python",
   "pygments_lexer": "ipython3",
   "version": "3.12.4"
  }
 },
 "nbformat": 4,
 "nbformat_minor": 2
}
