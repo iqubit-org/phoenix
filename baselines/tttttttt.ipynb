{
 "cells": [
  {
   "cell_type": "code",
   "execution_count": 8,
   "metadata": {},
   "outputs": [],
   "source": [
    "from tetris.utils.hardware import load_coupling_map, load_sycamore_graph, load_graph\n",
    "import numpy as np"
   ]
  },
  {
   "cell_type": "code",
   "execution_count": 17,
   "metadata": {},
   "outputs": [],
   "source": [
    "from qiskit import QuantumCircuit"
   ]
  },
  {
   "cell_type": "code",
   "execution_count": 24,
   "metadata": {},
   "outputs": [],
   "source": [
    "import sys\n",
    "sys.path.append('../')\n",
    "\n",
    "\n",
    "from phoenix import Circuit, gates"
   ]
  },
  {
   "cell_type": "code",
   "execution_count": 27,
   "metadata": {},
   "outputs": [
    {
     "data": {
      "text/html": [
       "<pre style=\"word-wrap: normal;white-space: pre;background: #fff0;line-height: 1.1;font-family: &quot;Courier New&quot;,Courier,monospace\">     ┌───┐\n",
       "q_0: ┤ H ├\n",
       "     └───┘\n",
       "q_1: ─────\n",
       "     ┌───┐\n",
       "q_2: ┤ X ├\n",
       "     └───┘</pre>"
      ],
      "text/plain": [
       "     ┌───┐\n",
       "q_0: ┤ H ├\n",
       "     └───┘\n",
       "q_1: ─────\n",
       "     ┌───┐\n",
       "q_2: ┤ X ├\n",
       "     └───┘"
      ]
     },
     "execution_count": 27,
     "metadata": {},
     "output_type": "execute_result"
    }
   ],
   "source": [
    "Circuit([gates.H.on(0), gates.X.on(2)]).to_qiskit().draw()"
   ]
  },
  {
   "cell_type": "code",
   "execution_count": null,
   "metadata": {},
   "outputs": [],
   "source": []
  },
  {
   "cell_type": "code",
   "execution_count": 50,
   "metadata": {},
   "outputs": [
    {
     "data": {
      "text/plain": [
       "<qiskit.circuit.instructionset.InstructionSet at 0x340317ee0>"
      ]
     },
     "execution_count": 50,
     "metadata": {},
     "output_type": "execute_result"
    }
   ],
   "source": [
    "qc1 = QuantumCircuit(4)\n",
    "qc1.h(0)\n",
    "qc1.cx(0, 1)"
   ]
  },
  {
   "cell_type": "code",
   "execution_count": 51,
   "metadata": {},
   "outputs": [
    {
     "data": {
      "text/plain": [
       "<qiskit.circuit.instructionset.InstructionSet at 0x3403006a0>"
      ]
     },
     "execution_count": 51,
     "metadata": {},
     "output_type": "execute_result"
    }
   ],
   "source": [
    "qc2 = QuantumCircuit(3)\n",
    "qc2.cz(1, 2)\n",
    "qc2.x(1)"
   ]
  },
  {
   "cell_type": "code",
   "execution_count": 52,
   "metadata": {},
   "outputs": [
    {
     "data": {
      "text/plain": [
       "[Qubit(QuantumRegister(3, 'q'), 0),\n",
       " Qubit(QuantumRegister(3, 'q'), 1),\n",
       " Qubit(QuantumRegister(3, 'q'), 2)]"
      ]
     },
     "execution_count": 52,
     "metadata": {},
     "output_type": "execute_result"
    }
   ],
   "source": [
    "qc2.qubits"
   ]
  },
  {
   "cell_type": "code",
   "execution_count": 62,
   "metadata": {},
   "outputs": [
    {
     "data": {
      "text/html": [
       "<pre style=\"word-wrap: normal;white-space: pre;background: #fff0;line-height: 1.1;font-family: &quot;Courier New&quot;,Courier,monospace\">     ┌───┐                                     \n",
       "q_0: ┤ H ├──■──────────────────────────────────\n",
       "     └───┘┌─┴─┐   ┌───┐   ┌───┐   ┌───┐   ┌───┐\n",
       "q_1: ─────┤ X ├─■─┤ X ├─■─┤ X ├─■─┤ X ├─■─┤ X ├\n",
       "          └───┘ │ └───┘ │ └───┘ │ └───┘ │ └───┘\n",
       "q_2: ───────────■───────■───────■───────■──────\n",
       "                                               \n",
       "q_3: ──────────────────────────────────────────\n",
       "                                               </pre>"
      ],
      "text/plain": [
       "     ┌───┐                                     \n",
       "q_0: ┤ H ├──■──────────────────────────────────\n",
       "     └───┘┌─┴─┐   ┌───┐   ┌───┐   ┌───┐   ┌───┐\n",
       "q_1: ─────┤ X ├─■─┤ X ├─■─┤ X ├─■─┤ X ├─■─┤ X ├\n",
       "          └───┘ │ └───┘ │ └───┘ │ └───┘ │ └───┘\n",
       "q_2: ───────────■───────■───────■───────■──────\n",
       "                                               \n",
       "q_3: ──────────────────────────────────────────\n",
       "                                               "
      ]
     },
     "execution_count": 62,
     "metadata": {},
     "output_type": "execute_result"
    }
   ],
   "source": [
    "qc1.draw()"
   ]
  },
  {
   "cell_type": "code",
   "execution_count": 59,
   "metadata": {},
   "outputs": [],
   "source": [
    "qc1.compose(qc2, inplace=True)"
   ]
  },
  {
   "cell_type": "code",
   "execution_count": 60,
   "metadata": {},
   "outputs": [
    {
     "ename": "AttributeError",
     "evalue": "'NoneType' object has no attribute 'draw'",
     "output_type": "error",
     "traceback": [
      "\u001b[0;31m---------------------------------------------------------------------------\u001b[0m",
      "\u001b[0;31mAttributeError\u001b[0m                            Traceback (most recent call last)",
      "Cell \u001b[0;32mIn[60], line 1\u001b[0m\n\u001b[0;32m----> 1\u001b[0m qc1\u001b[38;5;241m.\u001b[39mcompose(qc2, inplace\u001b[38;5;241m=\u001b[39m\u001b[38;5;28;01mTrue\u001b[39;00m)\u001b[38;5;241m.\u001b[39mdraw()\n",
      "\u001b[0;31mAttributeError\u001b[0m: 'NoneType' object has no attribute 'draw'"
     ]
    }
   ],
   "source": [
    "qc1.compose(qc2, inplace=True).draw()"
   ]
  },
  {
   "cell_type": "code",
   "execution_count": null,
   "metadata": {},
   "outputs": [],
   "source": []
  },
  {
   "cell_type": "code",
   "execution_count": 29,
   "metadata": {},
   "outputs": [],
   "source": [
    "circ1 = QuantumCircuit(3)\n",
    "circ1.h([0, 1, 2])\n",
    "\n",
    "circ2 = QuantumCircuit(3)\n",
    "circ2.x([0, 1, 2])\n",
    "\n",
    "circ = QuantumCircuit(6)\n",
    "circ.compose(circ1, [0, 1, 2], inplace=True)\n",
    "circ.compose(circ2, [3, 4, 5], inplace=True)"
   ]
  },
  {
   "cell_type": "code",
   "execution_count": 31,
   "metadata": {},
   "outputs": [
    {
     "data": {
      "text/html": [
       "<pre style=\"word-wrap: normal;white-space: pre;background: #fff0;line-height: 1.1;font-family: &quot;Courier New&quot;,Courier,monospace\">     ┌───┐\n",
       "q_0: ┤ H ├\n",
       "     ├───┤\n",
       "q_1: ┤ H ├\n",
       "     ├───┤\n",
       "q_2: ┤ H ├\n",
       "     ├───┤\n",
       "q_3: ┤ X ├\n",
       "     ├───┤\n",
       "q_4: ┤ X ├\n",
       "     ├───┤\n",
       "q_5: ┤ X ├\n",
       "     └───┘</pre>"
      ],
      "text/plain": [
       "     ┌───┐\n",
       "q_0: ┤ H ├\n",
       "     ├───┤\n",
       "q_1: ┤ H ├\n",
       "     ├───┤\n",
       "q_2: ┤ H ├\n",
       "     ├───┤\n",
       "q_3: ┤ X ├\n",
       "     ├───┤\n",
       "q_4: ┤ X ├\n",
       "     ├───┤\n",
       "q_5: ┤ X ├\n",
       "     └───┘"
      ]
     },
     "execution_count": 31,
     "metadata": {},
     "output_type": "execute_result"
    }
   ],
   "source": [
    "circ.draw()"
   ]
  },
  {
   "cell_type": "code",
   "execution_count": 2,
   "metadata": {},
   "outputs": [],
   "source": [
    "G, C = load_graph('manhattan')"
   ]
  },
  {
   "cell_type": "code",
   "execution_count": 10,
   "metadata": {},
   "outputs": [
    {
     "data": {
      "text/plain": [
       "array([0.e+00, 1.e+00, 1.e+06])"
      ]
     },
     "execution_count": 10,
     "metadata": {},
     "output_type": "execute_result"
    }
   ],
   "source": [
    "np.unique(C)"
   ]
  },
  {
   "cell_type": "code",
   "execution_count": 16,
   "metadata": {},
   "outputs": [
    {
     "data": {
      "text/plain": [
       "array([0.e+00, 1.e+06, 1.e+06, 1.e+06, 1.e+06, 1.e+06, 1.e+06, 1.e+06,\n",
       "       1.e+00, 1.e+06, 1.e+06, 1.e+06, 1.e+06, 1.e+06, 1.e+06, 1.e+06,\n",
       "       1.e+06, 1.e+06, 1.e+06, 1.e+06, 1.e+06, 1.e+06, 1.e+06, 1.e+06,\n",
       "       1.e+06, 1.e+06, 1.e+06, 1.e+06, 1.e+06, 1.e+06, 1.e+06, 1.e+06,\n",
       "       1.e+06, 1.e+06, 1.e+06, 1.e+06, 1.e+06, 1.e+06, 1.e+06, 1.e+06,\n",
       "       1.e+06, 1.e+06, 1.e+06, 1.e+06, 1.e+06, 1.e+06, 1.e+06, 1.e+06,\n",
       "       1.e+06, 1.e+06, 1.e+06, 1.e+06, 1.e+06, 1.e+06, 1.e+06, 1.e+06,\n",
       "       1.e+06, 1.e+06, 1.e+06, 1.e+06, 1.e+06, 1.e+06, 1.e+06, 1.e+06])"
      ]
     },
     "execution_count": 16,
     "metadata": {},
     "output_type": "execute_result"
    }
   ],
   "source": [
    "(C[0])"
   ]
  },
  {
   "cell_type": "code",
   "execution_count": 14,
   "metadata": {},
   "outputs": [
    {
     "data": {
      "text/plain": [
       "array([0., 0., 0., 0., 0., 0., 0., 0., 1., 0., 0., 0., 0., 0., 0., 0., 0.,\n",
       "       0., 0., 0., 0., 0., 0., 0., 0., 0., 0., 0., 0., 0., 0., 0., 0., 0.,\n",
       "       0., 0., 0., 0., 0., 0., 0., 0., 0., 0., 0., 0., 0., 0., 0., 0., 0.,\n",
       "       0., 0., 0., 0., 0., 0., 0., 0., 0., 0., 0., 0., 0.])"
      ]
     },
     "execution_count": 14,
     "metadata": {},
     "output_type": "execute_result"
    }
   ],
   "source": [
    "G[0]"
   ]
  },
  {
   "cell_type": "code",
   "execution_count": 6,
   "metadata": {},
   "outputs": [],
   "source": [
    "G, C = load_sycamore_graph(False)"
   ]
  },
  {
   "cell_type": "code",
   "execution_count": 7,
   "metadata": {},
   "outputs": [
    {
     "data": {
      "text/plain": [
       "array([[      0., 1000000., 1000000., ..., 1000000., 1000000., 1000000.],\n",
       "       [1000000.,       0., 1000000., ..., 1000000., 1000000., 1000000.],\n",
       "       [1000000., 1000000.,       0., ..., 1000000., 1000000., 1000000.],\n",
       "       ...,\n",
       "       [1000000., 1000000., 1000000., ...,       0., 1000000., 1000000.],\n",
       "       [1000000., 1000000., 1000000., ..., 1000000.,       0., 1000000.],\n",
       "       [1000000., 1000000., 1000000., ..., 1000000., 1000000.,       0.]])"
      ]
     },
     "execution_count": 7,
     "metadata": {},
     "output_type": "execute_result"
    }
   ],
   "source": [
    "C"
   ]
  },
  {
   "cell_type": "code",
   "execution_count": null,
   "metadata": {},
   "outputs": [],
   "source": []
  }
 ],
 "metadata": {
  "kernelspec": {
   "display_name": "base",
   "language": "python",
   "name": "python3"
  },
  "language_info": {
   "codemirror_mode": {
    "name": "ipython",
    "version": 3
   },
   "file_extension": ".py",
   "mimetype": "text/x-python",
   "name": "python",
   "nbconvert_exporter": "python",
   "pygments_lexer": "ipython3",
   "version": "3.12.4"
  }
 },
 "nbformat": 4,
 "nbformat_minor": 2
}
