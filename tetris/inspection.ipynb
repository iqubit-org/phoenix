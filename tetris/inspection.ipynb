{
 "cells": [
  {
   "cell_type": "code",
   "execution_count": 1,
   "id": "initial_id",
   "metadata": {
    "ExecuteTime": {
     "end_time": "2024-11-03T07:48:39.255842Z",
     "start_time": "2024-11-03T07:48:39.253635Z"
    },
    "collapsed": true
   },
   "outputs": [],
   "source": [
    "import pickle\n",
    "import json\n",
    "import os"
   ]
  },
  {
   "cell_type": "code",
   "execution_count": 2,
   "id": "193ec8ebf04090ff",
   "metadata": {
    "ExecuteTime": {
     "end_time": "2024-11-03T07:49:11.585121Z",
     "start_time": "2024-11-03T07:49:11.492491Z"
    }
   },
   "outputs": [],
   "source": [
    "with open('./data/jordan_wigner/LiH_UCCSD.pickle', 'rb') as f:\n",
    "    data = pickle.load(f)"
   ]
  },
  {
   "cell_type": "code",
   "execution_count": 3,
   "id": "577554b1d604bc25",
   "metadata": {
    "ExecuteTime": {
     "end_time": "2024-11-03T07:49:51.318564Z",
     "start_time": "2024-11-03T07:49:51.316568Z"
    }
   },
   "outputs": [
    {
     "data": {
      "text/plain": [
       "0.0"
      ]
     },
     "execution_count": 3,
     "metadata": {},
     "output_type": "execute_result"
    }
   ],
   "source": [
    "data[0][0].coeff\n",
    "\n",
    "\n"
   ]
  },
  {
   "cell_type": "code",
   "execution_count": 4,
   "id": "4943e76c7f6e59f3",
   "metadata": {
    "ExecuteTime": {
     "end_time": "2024-11-03T07:50:50.878781Z",
     "start_time": "2024-11-03T07:50:50.876571Z"
    }
   },
   "outputs": [
    {
     "data": {
      "text/plain": [
       "IIIIIIIIIXZY"
      ]
     },
     "execution_count": 4,
     "metadata": {},
     "output_type": "execute_result"
    }
   ],
   "source": [
    "data[0][0]"
   ]
  },
  {
   "cell_type": "code",
   "execution_count": 14,
   "id": "fe8ab00843ea971b",
   "metadata": {
    "ExecuteTime": {
     "end_time": "2024-11-03T07:51:14.405372Z",
     "start_time": "2024-11-03T07:51:14.402096Z"
    }
   },
   "outputs": [
    {
     "data": {
      "text/plain": [
       "benchmark.mypauli.pauliString"
      ]
     },
     "execution_count": 14,
     "metadata": {},
     "output_type": "execute_result"
    }
   ],
   "source": [
    "type(data[0][1])"
   ]
  },
  {
   "cell_type": "code",
   "execution_count": null,
   "id": "86e87ffdd93aaf2d",
   "metadata": {
    "ExecuteTime": {
     "end_time": "2024-11-03T07:50:46.865300Z",
     "start_time": "2024-11-03T07:50:46.863848Z"
    }
   },
   "outputs": [],
   "source": []
  },
  {
   "cell_type": "code",
   "execution_count": null,
   "id": "ec17e86a7e156a0c",
   "metadata": {
    "ExecuteTime": {
     "end_time": "2024-11-03T07:50:47.021588Z",
     "start_time": "2024-11-03T07:50:47.020204Z"
    }
   },
   "outputs": [],
   "source": []
  },
  {
   "cell_type": "code",
   "execution_count": null,
   "id": "6fe92f258f1879f5",
   "metadata": {},
   "outputs": [],
   "source": []
  }
 ],
 "metadata": {
  "kernelspec": {
   "display_name": "base",
   "language": "python",
   "name": "python3"
  },
  "language_info": {
   "codemirror_mode": {
    "name": "ipython",
    "version": 3
   },
   "file_extension": ".py",
   "mimetype": "text/x-python",
   "name": "python",
   "nbconvert_exporter": "python",
   "pygments_lexer": "ipython3",
   "version": "3.12.4"
  }
 },
 "nbformat": 4,
 "nbformat_minor": 5
}
