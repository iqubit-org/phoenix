{
 "cells": [
  {
   "cell_type": "code",
   "execution_count": 53,
   "metadata": {},
   "outputs": [],
   "source": [
    "import json\n",
    "import os\n",
    "import matplotlib.pyplot as plt\n",
    "from natsort import natsorted\n",
    "import qiskit\n",
    "from collections import Counter\n",
    "import sys\n",
    "sys.path.append('../')\n",
    "\n",
    "from phoenix.utils.display import print_circ_info\n",
    "from phoenix import Circuit\n",
    "from phoenix.synthesis import grouping, ordering\n",
    "from phoenix import models\n"
   ]
  },
  {
   "cell_type": "code",
   "execution_count": 47,
   "metadata": {},
   "outputs": [],
   "source": [
    "benchmark_dpath = './hamlib_json/discreteoptimization'\n",
    "# benchmark_dpath = '../experiments/output_hamlib/phoenix/discreteoptimization'\n",
    "fnames = [os.path.join(benchmark_dpath, f) for f in natsorted(os.listdir(benchmark_dpath))]"
   ]
  },
  {
   "cell_type": "code",
   "execution_count": 50,
   "metadata": {},
   "outputs": [],
   "source": [
    "with open(fnames[0], 'r') as f:\n",
    "    data = json.load(f)"
   ]
  },
  {
   "cell_type": "code",
   "execution_count": 54,
   "metadata": {},
   "outputs": [
    {
     "data": {
      "text/plain": [
       "{(0, 1, 2, 3): (['ZZZZIIII'], array([-5.65139799])),\n",
       " (4, 5, 6, 7): (['IIIIZZZZ'], array([-5.65139799])),\n",
       " (0, 1, 6, 7): (['ZZIIIIZZ'], array([-5.65139799])),\n",
       " (2, 3, 4, 5): (['IIZZZZII'], array([-5.65139799])),\n",
       " (0, 1, 2): (['ZZZIIIII'], array([-2.65402173])),\n",
       " (3, 4, 5): (['IIIZZZII'], array([-0.08279852])),\n",
       " (0, 6, 7): (['ZIIIIIZZ'], array([-2.65402173])),\n",
       " (1, 2, 3): (['IZZZIIII'], array([-0.08279852])),\n",
       " (4, 5, 6): (['IIIIZZZI'], array([-2.65402173])),\n",
       " (0, 1, 7): (['ZZIIIIIZ'], array([-0.08279852])),\n",
       " (2, 3, 4): (['IIZZZIII'], array([-2.65402173])),\n",
       " (5, 6, 7): (['IIIIIZZZ'], array([-0.08279852])),\n",
       " (0, 1, 3): (['ZZIZIIII'], array([-0.08279852])),\n",
       " (2, 4, 5): (['IIZIZZII'], array([-2.65402173])),\n",
       " (1, 6, 7): (['IZIIIIZZ'], array([-0.08279852])),\n",
       " (0, 2, 3): (['ZIZZIIII'], array([-2.65402173])),\n",
       " (4, 5, 7): (['IIIIZZIZ'], array([-0.08279852])),\n",
       " (0, 1, 6): (['ZZIIIIZI'], array([-2.65402173])),\n",
       " (2, 3, 5): (['IIZZIZII'], array([-0.08279852])),\n",
       " (4, 6, 7): (['IIIIZIZZ'], array([-2.65402173])),\n",
       " (0, 1): (['ZZIIIIII'], array([6.11535743])),\n",
       " (2, 3): (['IIZZIIII'], array([6.11535743])),\n",
       " (4, 5): (['IIIIZZII'], array([6.11535743])),\n",
       " (6, 7): (['IIIIIIZZ'], array([6.11535743])),\n",
       " (0, 2): (['ZIZIIIII'], array([-12.06754251])),\n",
       " (1, 3): (['IZIZIIII'], array([-7.99642969])),\n",
       " (4, 6): (['IIIIZIZI'], array([-12.06754251])),\n",
       " (5, 7): (['IIIIIZIZ'], array([-7.99642969])),\n",
       " (0, 3): (['ZIIZIIII'], array([-3.05767872])),\n",
       " (1, 2): (['IZZIIIII'], array([-3.05767872])),\n",
       " (4, 7): (['IIIIZIIZ'], array([-3.05767872])),\n",
       " (5, 6): (['IIIIIZZI'], array([-3.05767872])),\n",
       " (0, 6): (['ZIIIIIZI'], array([-12.06754251])),\n",
       " (1, 7): (['IZIIIIIZ'], array([-7.99642969])),\n",
       " (2, 4): (['IIZIZIII'], array([-12.06754251])),\n",
       " (3, 5): (['IIIZIZII'], array([-7.99642969])),\n",
       " (0, 7): (['ZIIIIIIZ'], array([-3.05767872])),\n",
       " (1, 6): (['IZIIIIZI'], array([-3.05767872])),\n",
       " (2, 5): (['IIZIIZII'], array([-3.05767872])),\n",
       " (3, 4): (['IIIZZIII'], array([-3.05767872])),\n",
       " (0,): (['ZIIIIIII'], array([0.16559704])),\n",
       " (1,): (['IZIIIIII'], array([5.30804345])),\n",
       " (2,): (['IIZIIIII'], array([0.16559704])),\n",
       " (3,): (['IIIZIIII'], array([5.30804345])),\n",
       " (4,): (['IIIIZIII'], array([0.16559704])),\n",
       " (5,): (['IIIIIZII'], array([5.30804345])),\n",
       " (6,): (['IIIIIIZI'], array([0.16559704])),\n",
       " (7,): (['IIIIIIIZ'], array([5.30804345]))}"
      ]
     },
     "execution_count": 54,
     "metadata": {},
     "output_type": "execute_result"
    }
   ],
   "source": [
    "grouping.group_paulis_and_coeffs(data['paulis'], data['coeffs'])"
   ]
  },
  {
   "cell_type": "code",
   "execution_count": 56,
   "metadata": {},
   "outputs": [],
   "source": [
    "ham = models.HamiltonianModel(data['paulis'], data['coeffs'])"
   ]
  },
  {
   "cell_type": "code",
   "execution_count": 58,
   "metadata": {},
   "outputs": [
    {
     "data": {
      "text/html": [
       "<pre style=\"white-space:pre;overflow-x:auto;line-height:normal;font-family:Menlo,'DejaVu Sans Mono',consolas,'Courier New',monospace\">┏━━━━━━━━━━━━┳━━━━━━━━━━━┳━━━━━━━━━━━━━━┳━━━━━━━┳━━━━━━━━━━┓\n",
       "┃<span style=\"font-weight: bold\"> num_qubits </span>┃<span style=\"font-weight: bold\"> num_gates </span>┃<span style=\"font-weight: bold\"> num_2q_gates </span>┃<span style=\"font-weight: bold\"> depth </span>┃<span style=\"font-weight: bold\"> depth_2q </span>┃\n",
       "┡━━━━━━━━━━━━╇━━━━━━━━━━━╇━━━━━━━━━━━━━━╇━━━━━━━╇━━━━━━━━━━┩\n",
       "│ 8          │ 178       │ 124          │ 67    │ 51       │\n",
       "└────────────┴───────────┴──────────────┴───────┴──────────┘\n",
       "</pre>\n"
      ],
      "text/plain": [
       "┏━━━━━━━━━━━━┳━━━━━━━━━━━┳━━━━━━━━━━━━━━┳━━━━━━━┳━━━━━━━━━━┓\n",
       "┃\u001b[1m \u001b[0m\u001b[1mnum_qubits\u001b[0m\u001b[1m \u001b[0m┃\u001b[1m \u001b[0m\u001b[1mnum_gates\u001b[0m\u001b[1m \u001b[0m┃\u001b[1m \u001b[0m\u001b[1mnum_2q_gates\u001b[0m\u001b[1m \u001b[0m┃\u001b[1m \u001b[0m\u001b[1mdepth\u001b[0m\u001b[1m \u001b[0m┃\u001b[1m \u001b[0m\u001b[1mdepth_2q\u001b[0m\u001b[1m \u001b[0m┃\n",
       "┡━━━━━━━━━━━━╇━━━━━━━━━━━╇━━━━━━━━━━━━━━╇━━━━━━━╇━━━━━━━━━━┩\n",
       "│ 8          │ 178       │ 124          │ 67    │ 51       │\n",
       "└────────────┴───────────┴──────────────┴───────┴──────────┘\n"
      ]
     },
     "metadata": {},
     "output_type": "display_data"
    }
   ],
   "source": [
    "print_circ_info(ham.reconfigure_and_generate_circuit())"
   ]
  },
  {
   "cell_type": "code",
   "execution_count": 59,
   "metadata": {},
   "outputs": [
    {
     "data": {
      "text/html": [
       "<pre style=\"white-space:pre;overflow-x:auto;line-height:normal;font-family:Menlo,'DejaVu Sans Mono',consolas,'Courier New',monospace\">┏━━━━━━━━━━━━┳━━━━━━━━━━━┳━━━━━━━━━━━━━━┳━━━━━━━┳━━━━━━━━━━┓\n",
       "┃<span style=\"font-weight: bold\"> num_qubits </span>┃<span style=\"font-weight: bold\"> num_gates </span>┃<span style=\"font-weight: bold\"> num_2q_gates </span>┃<span style=\"font-weight: bold\"> depth </span>┃<span style=\"font-weight: bold\"> depth_2q </span>┃\n",
       "┡━━━━━━━━━━━━╇━━━━━━━━━━━╇━━━━━━━━━━━━━━╇━━━━━━━╇━━━━━━━━━━┩\n",
       "│ 8          │ 158       │ 110          │ 84    │ 62       │\n",
       "└────────────┴───────────┴──────────────┴───────┴──────────┘\n",
       "</pre>\n"
      ],
      "text/plain": [
       "┏━━━━━━━━━━━━┳━━━━━━━━━━━┳━━━━━━━━━━━━━━┳━━━━━━━┳━━━━━━━━━━┓\n",
       "┃\u001b[1m \u001b[0m\u001b[1mnum_qubits\u001b[0m\u001b[1m \u001b[0m┃\u001b[1m \u001b[0m\u001b[1mnum_gates\u001b[0m\u001b[1m \u001b[0m┃\u001b[1m \u001b[0m\u001b[1mnum_2q_gates\u001b[0m\u001b[1m \u001b[0m┃\u001b[1m \u001b[0m\u001b[1mdepth\u001b[0m\u001b[1m \u001b[0m┃\u001b[1m \u001b[0m\u001b[1mdepth_2q\u001b[0m\u001b[1m \u001b[0m┃\n",
       "┡━━━━━━━━━━━━╇━━━━━━━━━━━╇━━━━━━━━━━━━━━╇━━━━━━━╇━━━━━━━━━━┩\n",
       "│ 8          │ 158       │ 110          │ 84    │ 62       │\n",
       "└────────────┴───────────┴──────────────┴───────┴──────────┘\n"
      ]
     },
     "metadata": {},
     "output_type": "display_data"
    }
   ],
   "source": [
    "print_circ_info(ham.phoenix_circuit())"
   ]
  },
  {
   "cell_type": "code",
   "execution_count": null,
   "metadata": {},
   "outputs": [],
   "source": []
  },
  {
   "cell_type": "code",
   "execution_count": null,
   "metadata": {},
   "outputs": [],
   "source": []
  },
  {
   "cell_type": "code",
   "execution_count": 33,
   "metadata": {},
   "outputs": [
    {
     "data": {
      "text/plain": [
       "['../experiments/output_hamlib/paulihedral/discreteoptimization/TSP_Ncity-4-tsp_rand-002_Ncity-4_enc-stdbinary.qasm',\n",
       " '../experiments/output_hamlib/paulihedral/discreteoptimization/TSP_Ncity-5-tsp_prob-ts225_Ncity-5_enc-unary.qasm',\n",
       " '../experiments/output_hamlib/paulihedral/discreteoptimization/TSP_Ncity-7-tsp_prob-lin105_Ncity-7_enc-unary.qasm',\n",
       " '../experiments/output_hamlib/paulihedral/discreteoptimization/TSP_Ncity-8-tsp_prob-d198_Ncity-8_enc-unary.qasm',\n",
       " '../experiments/output_hamlib/paulihedral/discreteoptimization/TSP_Ncity-8-tsp_prob-ulysses22_Ncity-8_enc-stdbinary.qasm',\n",
       " '../experiments/output_hamlib/paulihedral/discreteoptimization/TSP_Ncity-10-tsp_prob-pr76_Ncity-10_enc-unary.qasm',\n",
       " '../experiments/output_hamlib/paulihedral/discreteoptimization/TSP_Ncity-10-tsp_prob-st70_Ncity-10_enc-unary.qasm',\n",
       " '../experiments/output_hamlib/paulihedral/discreteoptimization/TSP_Ncity-16-tsp_prob-fl417_Ncity-16_enc-stdbinary.qasm',\n",
       " '../experiments/output_hamlib/paulihedral/discreteoptimization/TSP_Ncity-16-tsp_prob-kroD100_Ncity-16_enc-stdbinary.qasm',\n",
       " '../experiments/output_hamlib/paulihedral/discreteoptimization/binary-color02-dsjc1000.1_k-3-dsjc1000.1.qasm',\n",
       " '../experiments/output_hamlib/paulihedral/discreteoptimization/binary-graph-regular_k-5-reg-5_n-10_rinst-07.qasm',\n",
       " '../experiments/output_hamlib/paulihedral/discreteoptimization/gray-color02-1-fullins_5_k-5-1-fullins_5.qasm',\n",
       " '../experiments/output_hamlib/paulihedral/discreteoptimization/gray-color02-will199gpia_k-3-will199gpia.qasm',\n",
       " '../experiments/output_hamlib/paulihedral/discreteoptimization/unary-color02-ash608gpia_k-3-ash608gpia.qasm',\n",
       " '../experiments/output_hamlib/paulihedral/discreteoptimization/unary-color02-queen13_13_k-4-queen13_13.qasm']"
      ]
     },
     "execution_count": 33,
     "metadata": {},
     "output_type": "execute_result"
    }
   ],
   "source": [
    "fnames"
   ]
  },
  {
   "cell_type": "code",
   "execution_count": 35,
   "metadata": {},
   "outputs": [
    {
     "data": {
      "text/plain": [
       "['../experiments/output_hamlib/phoenix/discreteoptimization/TSP_Ncity-4-tsp_rand-002_Ncity-4_enc-stdbinary.qasm',\n",
       " '../experiments/output_hamlib/phoenix/discreteoptimization/TSP_Ncity-5-tsp_prob-ts225_Ncity-5_enc-unary.qasm',\n",
       " '../experiments/output_hamlib/phoenix/discreteoptimization/TSP_Ncity-7-tsp_prob-lin105_Ncity-7_enc-unary.qasm',\n",
       " '../experiments/output_hamlib/phoenix/discreteoptimization/TSP_Ncity-8-tsp_prob-d198_Ncity-8_enc-unary.qasm',\n",
       " '../experiments/output_hamlib/phoenix/discreteoptimization/TSP_Ncity-8-tsp_prob-ulysses22_Ncity-8_enc-stdbinary.qasm',\n",
       " '../experiments/output_hamlib/phoenix/discreteoptimization/TSP_Ncity-10-tsp_prob-pr76_Ncity-10_enc-unary.qasm',\n",
       " '../experiments/output_hamlib/phoenix/discreteoptimization/TSP_Ncity-10-tsp_prob-st70_Ncity-10_enc-unary.qasm']"
      ]
     },
     "execution_count": 35,
     "metadata": {},
     "output_type": "execute_result"
    }
   ],
   "source": [
    "fnames"
   ]
  },
  {
   "cell_type": "code",
   "execution_count": 36,
   "metadata": {},
   "outputs": [],
   "source": [
    "qc = qiskit.QuantumCircuit.from_qasm_file(fnames[0])"
   ]
  },
  {
   "cell_type": "code",
   "execution_count": 37,
   "metadata": {},
   "outputs": [
    {
     "data": {
      "text/html": [
       "<pre style=\"white-space:pre;overflow-x:auto;line-height:normal;font-family:Menlo,'DejaVu Sans Mono',consolas,'Courier New',monospace\">┏━━━━━━━━━━━━┳━━━━━━━━━━━┳━━━━━━━━━━━━━━┳━━━━━━━┳━━━━━━━━━━┓\n",
       "┃<span style=\"font-weight: bold\"> num_qubits </span>┃<span style=\"font-weight: bold\"> num_gates </span>┃<span style=\"font-weight: bold\"> num_2q_gates </span>┃<span style=\"font-weight: bold\"> depth </span>┃<span style=\"font-weight: bold\"> depth_2q </span>┃\n",
       "┡━━━━━━━━━━━━╇━━━━━━━━━━━╇━━━━━━━━━━━━━━╇━━━━━━━╇━━━━━━━━━━┩\n",
       "│ 8          │ 158       │ 110          │ 84    │ 62       │\n",
       "└────────────┴───────────┴──────────────┴───────┴──────────┘\n",
       "</pre>\n"
      ],
      "text/plain": [
       "┏━━━━━━━━━━━━┳━━━━━━━━━━━┳━━━━━━━━━━━━━━┳━━━━━━━┳━━━━━━━━━━┓\n",
       "┃\u001b[1m \u001b[0m\u001b[1mnum_qubits\u001b[0m\u001b[1m \u001b[0m┃\u001b[1m \u001b[0m\u001b[1mnum_gates\u001b[0m\u001b[1m \u001b[0m┃\u001b[1m \u001b[0m\u001b[1mnum_2q_gates\u001b[0m\u001b[1m \u001b[0m┃\u001b[1m \u001b[0m\u001b[1mdepth\u001b[0m\u001b[1m \u001b[0m┃\u001b[1m \u001b[0m\u001b[1mdepth_2q\u001b[0m\u001b[1m \u001b[0m┃\n",
       "┡━━━━━━━━━━━━╇━━━━━━━━━━━╇━━━━━━━━━━━━━━╇━━━━━━━╇━━━━━━━━━━┩\n",
       "│ 8          │ 158       │ 110          │ 84    │ 62       │\n",
       "└────────────┴───────────┴──────────────┴───────┴──────────┘\n"
      ]
     },
     "metadata": {},
     "output_type": "display_data"
    }
   ],
   "source": [
    "print_circ_info(qc)"
   ]
  },
  {
   "cell_type": "code",
   "execution_count": null,
   "metadata": {},
   "outputs": [],
   "source": []
  },
  {
   "cell_type": "code",
   "execution_count": null,
   "metadata": {},
   "outputs": [],
   "source": []
  },
  {
   "cell_type": "code",
   "execution_count": 38,
   "metadata": {},
   "outputs": [
    {
     "data": {
      "text/html": [
       "<pre style=\"white-space:pre;overflow-x:auto;line-height:normal;font-family:Menlo,'DejaVu Sans Mono',consolas,'Courier New',monospace\">┏━━━━━━━━━━━━┳━━━━━━━━━━━┳━━━━━━━━━━━━━━┳━━━━━━━┳━━━━━━━━━━┓\n",
       "┃<span style=\"font-weight: bold\"> num_qubits </span>┃<span style=\"font-weight: bold\"> num_gates </span>┃<span style=\"font-weight: bold\"> num_2q_gates </span>┃<span style=\"font-weight: bold\"> depth </span>┃<span style=\"font-weight: bold\"> depth_2q </span>┃\n",
       "┡━━━━━━━━━━━━╇━━━━━━━━━━━╇━━━━━━━━━━━━━━╇━━━━━━━╇━━━━━━━━━━┩\n",
       "│ 8          │ 211       │ 102          │ 102   │ 57       │\n",
       "└────────────┴───────────┴──────────────┴───────┴──────────┘\n",
       "</pre>\n"
      ],
      "text/plain": [
       "┏━━━━━━━━━━━━┳━━━━━━━━━━━┳━━━━━━━━━━━━━━┳━━━━━━━┳━━━━━━━━━━┓\n",
       "┃\u001b[1m \u001b[0m\u001b[1mnum_qubits\u001b[0m\u001b[1m \u001b[0m┃\u001b[1m \u001b[0m\u001b[1mnum_gates\u001b[0m\u001b[1m \u001b[0m┃\u001b[1m \u001b[0m\u001b[1mnum_2q_gates\u001b[0m\u001b[1m \u001b[0m┃\u001b[1m \u001b[0m\u001b[1mdepth\u001b[0m\u001b[1m \u001b[0m┃\u001b[1m \u001b[0m\u001b[1mdepth_2q\u001b[0m\u001b[1m \u001b[0m┃\n",
       "┡━━━━━━━━━━━━╇━━━━━━━━━━━╇━━━━━━━━━━━━━━╇━━━━━━━╇━━━━━━━━━━┩\n",
       "│ 8          │ 211       │ 102          │ 102   │ 57       │\n",
       "└────────────┴───────────┴──────────────┴───────┴──────────┘\n"
      ]
     },
     "metadata": {},
     "output_type": "display_data"
    }
   ],
   "source": [
    "qc_opt = qiskit.transpile(qc, optimization_level=2, basis_gates=['u1', 'u2', 'u3', 'cx'])\n",
    "print_circ_info(qc_opt)"
   ]
  },
  {
   "cell_type": "code",
   "execution_count": 14,
   "metadata": {},
   "outputs": [
    {
     "data": {
      "text/plain": [
       "{'RZ': 343, 'X': 588}"
      ]
     },
     "execution_count": 14,
     "metadata": {},
     "output_type": "execute_result"
    }
   ],
   "source": [
    "Circuit.from_qiskit(qc).gate_stats()"
   ]
  },
  {
   "cell_type": "code",
   "execution_count": null,
   "metadata": {},
   "outputs": [],
   "source": []
  },
  {
   "cell_type": "code",
   "execution_count": null,
   "metadata": {},
   "outputs": [],
   "source": []
  },
  {
   "cell_type": "code",
   "execution_count": null,
   "metadata": {},
   "outputs": [],
   "source": []
  },
  {
   "cell_type": "code",
   "execution_count": null,
   "metadata": {},
   "outputs": [],
   "source": []
  },
  {
   "cell_type": "code",
   "execution_count": null,
   "metadata": {},
   "outputs": [],
   "source": []
  }
 ],
 "metadata": {
  "kernelspec": {
   "display_name": "base",
   "language": "python",
   "name": "python3"
  },
  "language_info": {
   "codemirror_mode": {
    "name": "ipython",
    "version": 3
   },
   "file_extension": ".py",
   "mimetype": "text/x-python",
   "name": "python",
   "nbconvert_exporter": "python",
   "pygments_lexer": "ipython3",
   "version": "3.9.18"
  }
 },
 "nbformat": 4,
 "nbformat_minor": 2
}
