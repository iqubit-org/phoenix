{
 "cells": [
  {
   "cell_type": "code",
   "execution_count": null,
   "metadata": {},
   "outputs": [],
   "source": []
  },
  {
   "cell_type": "code",
   "execution_count": 9,
   "metadata": {},
   "outputs": [],
   "source": [
    "import bench_utils"
   ]
  },
  {
   "cell_type": "code",
   "execution_count": 11,
   "metadata": {},
   "outputs": [],
   "source": [
    "import numpy as np\n",
    "\n"
   ]
  },
  {
   "cell_type": "code",
   "execution_count": 27,
   "metadata": {},
   "outputs": [],
   "source": [
    "arr = np.arange(0, 12).reshape(3,4)"
   ]
  },
  {
   "cell_type": "code",
   "execution_count": 29,
   "metadata": {},
   "outputs": [],
   "source": [
    "np.fill_diagonal(arr, 1000)"
   ]
  },
  {
   "cell_type": "code",
   "execution_count": 32,
   "metadata": {},
   "outputs": [
    {
     "data": {
      "text/plain": [
       "array([1000, 1000])"
      ]
     },
     "execution_count": 32,
     "metadata": {},
     "output_type": "execute_result"
    }
   ],
   "source": [
    "arr[[0,1], [0,1]]"
   ]
  },
  {
   "cell_type": "code",
   "execution_count": 10,
   "metadata": {},
   "outputs": [
    {
     "name": "stdout",
     "output_type": "stream",
     "text": [
      "(0, 1)\n",
      "(1, 0)\n",
      "(0, 2)\n",
      "(2, 0)\n",
      "(1, 13)\n",
      "(13, 1)\n",
      "(2, 3)\n",
      "(3, 2)\n",
      "(3, 4)\n",
      "(4, 3)\n",
      "(4, 5)\n",
      "(5, 4)\n",
      "(5, 6)\n",
      "(6, 5)\n",
      "(5, 7)\n",
      "(7, 5)\n",
      "(6, 8)\n",
      "(8, 6)\n",
      "(7, 14)\n",
      "(14, 7)\n",
      "(8, 9)\n",
      "(9, 8)\n",
      "(9, 10)\n",
      "(10, 9)\n",
      "(10, 11)\n",
      "(11, 10)\n",
      "(10, 12)\n",
      "(12, 10)\n",
      "(12, 15)\n",
      "(15, 12)\n",
      "(13, 16)\n",
      "(16, 13)\n",
      "(14, 18)\n",
      "(18, 14)\n",
      "(14, 20)\n",
      "(20, 14)\n",
      "(15, 22)\n",
      "(22, 15)\n",
      "(15, 24)\n",
      "(24, 15)\n",
      "(16, 17)\n",
      "(17, 16)\n",
      "(17, 18)\n",
      "(18, 17)\n",
      "(17, 19)\n",
      "(19, 17)\n",
      "(19, 27)\n",
      "(27, 19)\n",
      "(20, 21)\n",
      "(21, 20)\n",
      "(21, 22)\n",
      "(22, 21)\n",
      "(21, 23)\n",
      "(23, 21)\n",
      "(23, 28)\n",
      "(28, 23)\n",
      "(24, 25)\n",
      "(25, 24)\n",
      "(25, 26)\n",
      "(26, 25)\n",
      "(26, 29)\n",
      "(29, 26)\n",
      "(27, 32)\n",
      "(32, 27)\n",
      "(27, 33)\n",
      "(33, 27)\n",
      "(28, 35)\n",
      "(35, 28)\n",
      "(28, 37)\n",
      "(37, 28)\n",
      "(29, 40)\n",
      "(40, 29)\n",
      "(30, 31)\n",
      "(31, 30)\n",
      "(30, 32)\n",
      "(32, 30)\n",
      "(31, 41)\n",
      "(41, 31)\n",
      "(33, 34)\n",
      "(34, 33)\n",
      "(34, 35)\n",
      "(35, 34)\n",
      "(34, 36)\n",
      "(36, 34)\n",
      "(36, 42)\n",
      "(42, 36)\n",
      "(37, 38)\n",
      "(38, 37)\n",
      "(38, 39)\n",
      "(39, 38)\n",
      "(38, 40)\n",
      "(40, 38)\n",
      "(39, 43)\n",
      "(43, 39)\n",
      "(41, 44)\n",
      "(44, 41)\n",
      "(42, 46)\n",
      "(46, 42)\n",
      "(42, 48)\n",
      "(48, 42)\n",
      "(43, 50)\n",
      "(50, 43)\n",
      "(43, 52)\n",
      "(52, 43)\n",
      "(44, 45)\n",
      "(45, 44)\n",
      "(45, 46)\n",
      "(46, 45)\n",
      "(45, 47)\n",
      "(47, 45)\n",
      "(47, 55)\n",
      "(55, 47)\n",
      "(48, 49)\n",
      "(49, 48)\n",
      "(49, 50)\n",
      "(50, 49)\n",
      "(49, 51)\n",
      "(51, 49)\n",
      "(51, 56)\n",
      "(56, 51)\n",
      "(52, 53)\n",
      "(53, 52)\n",
      "(53, 54)\n",
      "(54, 53)\n",
      "(54, 57)\n",
      "(57, 54)\n",
      "(55, 58)\n",
      "(58, 55)\n",
      "(55, 59)\n",
      "(59, 55)\n",
      "(56, 61)\n",
      "(61, 56)\n",
      "(56, 62)\n",
      "(62, 56)\n",
      "(57, 64)\n",
      "(64, 57)\n",
      "(59, 60)\n",
      "(60, 59)\n",
      "(60, 61)\n",
      "(61, 60)\n",
      "(62, 63)\n",
      "(63, 62)\n",
      "(63, 64)\n",
      "(64, 63)\n"
     ]
    }
   ],
   "source": [
    "for edge in bench_utils.Manhattan.get_edges():\n",
    "    print(edge)"
   ]
  },
  {
   "cell_type": "code",
   "execution_count": 4,
   "metadata": {},
   "outputs": [
    {
     "data": {
      "text/plain": [
       "rustworkx.PyDiGraph"
      ]
     },
     "execution_count": 4,
     "metadata": {},
     "output_type": "execute_result"
    }
   ],
   "source": [
    "type(bench_utils.All2all.graph)"
   ]
  },
  {
   "cell_type": "code",
   "execution_count": 5,
   "metadata": {},
   "outputs": [],
   "source": [
    "import networkx as nx\n",
    "import rustworkx as rx"
   ]
  },
  {
   "cell_type": "code",
   "execution_count": 6,
   "metadata": {},
   "outputs": [
    {
     "data": {
      "text/plain": [
       "array([[0., 1., 1., ..., 1., 1., 1.],\n",
       "       [1., 0., 1., ..., 1., 1., 1.],\n",
       "       [1., 1., 0., ..., 1., 1., 1.],\n",
       "       ...,\n",
       "       [1., 1., 1., ..., 0., 1., 1.],\n",
       "       [1., 1., 1., ..., 1., 0., 1.],\n",
       "       [1., 1., 1., ..., 1., 1., 0.]])"
      ]
     },
     "execution_count": 6,
     "metadata": {},
     "output_type": "execute_result"
    }
   ],
   "source": [
    "rx.adjacency_matrix(bench_utils.All2all.graph)"
   ]
  },
  {
   "cell_type": "code",
   "execution_count": 7,
   "metadata": {},
   "outputs": [
    {
     "ename": "TypeError",
     "evalue": "'rustworkx.PyDiGraph' object is not iterable",
     "output_type": "error",
     "traceback": [
      "\u001b[0;31m---------------------------------------------------------------------------\u001b[0m",
      "\u001b[0;31mTypeError\u001b[0m                                 Traceback (most recent call last)",
      "Cell \u001b[0;32mIn[7], line 1\u001b[0m\n\u001b[0;32m----> 1\u001b[0m nx\u001b[38;5;241m.\u001b[39madjacency_matrix(bench_utils\u001b[38;5;241m.\u001b[39mManhattan\u001b[38;5;241m.\u001b[39mgraph)\n",
      "File \u001b[0;32m~/miniconda3/lib/python3.12/site-packages/networkx/utils/decorators.py:789\u001b[0m, in \u001b[0;36margmap.__call__.<locals>.func\u001b[0;34m(_argmap__wrapper, *args, **kwargs)\u001b[0m\n\u001b[1;32m    788\u001b[0m \u001b[38;5;28;01mdef\u001b[39;00m \u001b[38;5;21mfunc\u001b[39m(\u001b[38;5;241m*\u001b[39margs, __wrapper\u001b[38;5;241m=\u001b[39m\u001b[38;5;28;01mNone\u001b[39;00m, \u001b[38;5;241m*\u001b[39m\u001b[38;5;241m*\u001b[39mkwargs):\n\u001b[0;32m--> 789\u001b[0m     \u001b[38;5;28;01mreturn\u001b[39;00m argmap\u001b[38;5;241m.\u001b[39m_lazy_compile(__wrapper)(\u001b[38;5;241m*\u001b[39margs, \u001b[38;5;241m*\u001b[39m\u001b[38;5;241m*\u001b[39mkwargs)\n",
      "File \u001b[0;32m<class 'networkx.utils.decorators.argmap'> compilation 4:3\u001b[0m, in \u001b[0;36margmap_adjacency_matrix_1\u001b[0;34m(G, nodelist, dtype, weight, backend, **backend_kwargs)\u001b[0m\n\u001b[1;32m      1\u001b[0m \u001b[38;5;28;01mimport\u001b[39;00m \u001b[38;5;21;01mbz2\u001b[39;00m\n\u001b[1;32m      2\u001b[0m \u001b[38;5;28;01mimport\u001b[39;00m \u001b[38;5;21;01mcollections\u001b[39;00m\n\u001b[0;32m----> 3\u001b[0m \u001b[38;5;28;01mimport\u001b[39;00m \u001b[38;5;21;01mgzip\u001b[39;00m\n\u001b[1;32m      4\u001b[0m \u001b[38;5;28;01mimport\u001b[39;00m \u001b[38;5;21;01minspect\u001b[39;00m\n\u001b[1;32m      5\u001b[0m \u001b[38;5;28;01mimport\u001b[39;00m \u001b[38;5;21;01mitertools\u001b[39;00m\n",
      "File \u001b[0;32m~/miniconda3/lib/python3.12/site-packages/networkx/utils/backends.py:633\u001b[0m, in \u001b[0;36m_dispatchable.__call__\u001b[0;34m(self, backend, *args, **kwargs)\u001b[0m\n\u001b[1;32m    628\u001b[0m \u001b[38;5;250m\u001b[39m\u001b[38;5;124;03m\"\"\"Returns the result of the original function, or the backend function if\u001b[39;00m\n\u001b[1;32m    629\u001b[0m \u001b[38;5;124;03mthe backend is specified and that backend implements `func`.\"\"\"\u001b[39;00m\n\u001b[1;32m    631\u001b[0m \u001b[38;5;28;01mif\u001b[39;00m \u001b[38;5;129;01mnot\u001b[39;00m backends:\n\u001b[1;32m    632\u001b[0m     \u001b[38;5;66;03m# Fast path if no backends are installed\u001b[39;00m\n\u001b[0;32m--> 633\u001b[0m     \u001b[38;5;28;01mreturn\u001b[39;00m \u001b[38;5;28mself\u001b[39m\u001b[38;5;241m.\u001b[39morig_func(\u001b[38;5;241m*\u001b[39margs, \u001b[38;5;241m*\u001b[39m\u001b[38;5;241m*\u001b[39mkwargs)\n\u001b[1;32m    635\u001b[0m \u001b[38;5;66;03m# Use `backend_name` in this function instead of `backend`\u001b[39;00m\n\u001b[1;32m    636\u001b[0m backend_name \u001b[38;5;241m=\u001b[39m backend\n",
      "File \u001b[0;32m~/miniconda3/lib/python3.12/site-packages/networkx/linalg/graphmatrix.py:166\u001b[0m, in \u001b[0;36madjacency_matrix\u001b[0;34m(G, nodelist, dtype, weight)\u001b[0m\n\u001b[1;32m    107\u001b[0m \u001b[38;5;129m@nx\u001b[39m\u001b[38;5;241m.\u001b[39m_dispatchable(edge_attrs\u001b[38;5;241m=\u001b[39m\u001b[38;5;124m\"\u001b[39m\u001b[38;5;124mweight\u001b[39m\u001b[38;5;124m\"\u001b[39m)\n\u001b[1;32m    108\u001b[0m \u001b[38;5;28;01mdef\u001b[39;00m \u001b[38;5;21madjacency_matrix\u001b[39m(G, nodelist\u001b[38;5;241m=\u001b[39m\u001b[38;5;28;01mNone\u001b[39;00m, dtype\u001b[38;5;241m=\u001b[39m\u001b[38;5;28;01mNone\u001b[39;00m, weight\u001b[38;5;241m=\u001b[39m\u001b[38;5;124m\"\u001b[39m\u001b[38;5;124mweight\u001b[39m\u001b[38;5;124m\"\u001b[39m):\n\u001b[1;32m    109\u001b[0m \u001b[38;5;250m    \u001b[39m\u001b[38;5;124;03m\"\"\"Returns adjacency matrix of G.\u001b[39;00m\n\u001b[1;32m    110\u001b[0m \n\u001b[1;32m    111\u001b[0m \u001b[38;5;124;03m    Parameters\u001b[39;00m\n\u001b[0;32m   (...)\u001b[0m\n\u001b[1;32m    164\u001b[0m \u001b[38;5;124;03m    adjacency_spectrum\u001b[39;00m\n\u001b[1;32m    165\u001b[0m \u001b[38;5;124;03m    \"\"\"\u001b[39;00m\n\u001b[0;32m--> 166\u001b[0m     \u001b[38;5;28;01mreturn\u001b[39;00m nx\u001b[38;5;241m.\u001b[39mto_scipy_sparse_array(G, nodelist\u001b[38;5;241m=\u001b[39mnodelist, dtype\u001b[38;5;241m=\u001b[39mdtype, weight\u001b[38;5;241m=\u001b[39mweight)\n",
      "File \u001b[0;32m~/miniconda3/lib/python3.12/site-packages/networkx/utils/decorators.py:789\u001b[0m, in \u001b[0;36margmap.__call__.<locals>.func\u001b[0;34m(_argmap__wrapper, *args, **kwargs)\u001b[0m\n\u001b[1;32m    788\u001b[0m \u001b[38;5;28;01mdef\u001b[39;00m \u001b[38;5;21mfunc\u001b[39m(\u001b[38;5;241m*\u001b[39margs, __wrapper\u001b[38;5;241m=\u001b[39m\u001b[38;5;28;01mNone\u001b[39;00m, \u001b[38;5;241m*\u001b[39m\u001b[38;5;241m*\u001b[39mkwargs):\n\u001b[0;32m--> 789\u001b[0m     \u001b[38;5;28;01mreturn\u001b[39;00m argmap\u001b[38;5;241m.\u001b[39m_lazy_compile(__wrapper)(\u001b[38;5;241m*\u001b[39margs, \u001b[38;5;241m*\u001b[39m\u001b[38;5;241m*\u001b[39mkwargs)\n",
      "File \u001b[0;32m<class 'networkx.utils.decorators.argmap'> compilation 8:3\u001b[0m, in \u001b[0;36margmap_to_scipy_sparse_array_5\u001b[0;34m(G, nodelist, dtype, weight, format, backend, **backend_kwargs)\u001b[0m\n\u001b[1;32m      1\u001b[0m \u001b[38;5;28;01mimport\u001b[39;00m \u001b[38;5;21;01mbz2\u001b[39;00m\n\u001b[1;32m      2\u001b[0m \u001b[38;5;28;01mimport\u001b[39;00m \u001b[38;5;21;01mcollections\u001b[39;00m\n\u001b[0;32m----> 3\u001b[0m \u001b[38;5;28;01mimport\u001b[39;00m \u001b[38;5;21;01mgzip\u001b[39;00m\n\u001b[1;32m      4\u001b[0m \u001b[38;5;28;01mimport\u001b[39;00m \u001b[38;5;21;01minspect\u001b[39;00m\n\u001b[1;32m      5\u001b[0m \u001b[38;5;28;01mimport\u001b[39;00m \u001b[38;5;21;01mitertools\u001b[39;00m\n",
      "File \u001b[0;32m~/miniconda3/lib/python3.12/site-packages/networkx/utils/backends.py:633\u001b[0m, in \u001b[0;36m_dispatchable.__call__\u001b[0;34m(self, backend, *args, **kwargs)\u001b[0m\n\u001b[1;32m    628\u001b[0m \u001b[38;5;250m\u001b[39m\u001b[38;5;124;03m\"\"\"Returns the result of the original function, or the backend function if\u001b[39;00m\n\u001b[1;32m    629\u001b[0m \u001b[38;5;124;03mthe backend is specified and that backend implements `func`.\"\"\"\u001b[39;00m\n\u001b[1;32m    631\u001b[0m \u001b[38;5;28;01mif\u001b[39;00m \u001b[38;5;129;01mnot\u001b[39;00m backends:\n\u001b[1;32m    632\u001b[0m     \u001b[38;5;66;03m# Fast path if no backends are installed\u001b[39;00m\n\u001b[0;32m--> 633\u001b[0m     \u001b[38;5;28;01mreturn\u001b[39;00m \u001b[38;5;28mself\u001b[39m\u001b[38;5;241m.\u001b[39morig_func(\u001b[38;5;241m*\u001b[39margs, \u001b[38;5;241m*\u001b[39m\u001b[38;5;241m*\u001b[39mkwargs)\n\u001b[1;32m    635\u001b[0m \u001b[38;5;66;03m# Use `backend_name` in this function instead of `backend`\u001b[39;00m\n\u001b[1;32m    636\u001b[0m backend_name \u001b[38;5;241m=\u001b[39m backend\n",
      "File \u001b[0;32m~/miniconda3/lib/python3.12/site-packages/networkx/convert_matrix.py:574\u001b[0m, in \u001b[0;36mto_scipy_sparse_array\u001b[0;34m(G, nodelist, dtype, weight, format)\u001b[0m\n\u001b[1;32m    571\u001b[0m     \u001b[38;5;28;01mraise\u001b[39;00m nx\u001b[38;5;241m.\u001b[39mNetworkXError(\u001b[38;5;124m\"\u001b[39m\u001b[38;5;124mGraph has no nodes or edges\u001b[39m\u001b[38;5;124m\"\u001b[39m)\n\u001b[1;32m    573\u001b[0m \u001b[38;5;28;01mif\u001b[39;00m nodelist \u001b[38;5;129;01mis\u001b[39;00m \u001b[38;5;28;01mNone\u001b[39;00m:\n\u001b[0;32m--> 574\u001b[0m     nodelist \u001b[38;5;241m=\u001b[39m \u001b[38;5;28mlist\u001b[39m(G)\n\u001b[1;32m    575\u001b[0m     nlen \u001b[38;5;241m=\u001b[39m \u001b[38;5;28mlen\u001b[39m(G)\n\u001b[1;32m    576\u001b[0m \u001b[38;5;28;01melse\u001b[39;00m:\n",
      "\u001b[0;31mTypeError\u001b[0m: 'rustworkx.PyDiGraph' object is not iterable"
     ]
    }
   ],
   "source": [
    "nx.adjacency_matrix(bench_utils.Manhattan.graph)"
   ]
  },
  {
   "cell_type": "code",
   "execution_count": 10,
   "metadata": {},
   "outputs": [
    {
     "data": {
      "text/plain": [
       "[(0, 1),\n",
       " (0, 2),\n",
       " (1, 13),\n",
       " (2, 3),\n",
       " (3, 4),\n",
       " (4, 5),\n",
       " (5, 6),\n",
       " (5, 7),\n",
       " (6, 8),\n",
       " (7, 14),\n",
       " (8, 9),\n",
       " (9, 10),\n",
       " (10, 11),\n",
       " (10, 12),\n",
       " (12, 15),\n",
       " (13, 16),\n",
       " (14, 18),\n",
       " (14, 20),\n",
       " (15, 22),\n",
       " (15, 24),\n",
       " (16, 17),\n",
       " (17, 18),\n",
       " (17, 19),\n",
       " (19, 27),\n",
       " (20, 21),\n",
       " (21, 22),\n",
       " (21, 23),\n",
       " (23, 28),\n",
       " (24, 25),\n",
       " (25, 26),\n",
       " (26, 29),\n",
       " (27, 32),\n",
       " (27, 33),\n",
       " (28, 35),\n",
       " (28, 37),\n",
       " (29, 40),\n",
       " (30, 31),\n",
       " (30, 32),\n",
       " (31, 41),\n",
       " (33, 34),\n",
       " (34, 35),\n",
       " (34, 36),\n",
       " (36, 42),\n",
       " (37, 38),\n",
       " (38, 39),\n",
       " (38, 40),\n",
       " (39, 43),\n",
       " (41, 44),\n",
       " (42, 46),\n",
       " (42, 48),\n",
       " (43, 50),\n",
       " (43, 52),\n",
       " (44, 45),\n",
       " (45, 46),\n",
       " (45, 47),\n",
       " (47, 55),\n",
       " (48, 49),\n",
       " (49, 50),\n",
       " (49, 51),\n",
       " (51, 56),\n",
       " (52, 53),\n",
       " (53, 54),\n",
       " (54, 57),\n",
       " (55, 58),\n",
       " (55, 59),\n",
       " (56, 61),\n",
       " (56, 62),\n",
       " (57, 64),\n",
       " (59, 60),\n",
       " (60, 61),\n",
       " (62, 63),\n",
       " (63, 64)]"
      ]
     },
     "execution_count": 10,
     "metadata": {},
     "output_type": "execute_result"
    }
   ],
   "source": [
    "list(bench_utils.Manhattan.get_edges())"
   ]
  },
  {
   "cell_type": "code",
   "execution_count": null,
   "metadata": {},
   "outputs": [],
   "source": []
  }
 ],
 "metadata": {
  "kernelspec": {
   "display_name": "base",
   "language": "python",
   "name": "python3"
  },
  "language_info": {
   "codemirror_mode": {
    "name": "ipython",
    "version": 3
   },
   "file_extension": ".py",
   "mimetype": "text/x-python",
   "name": "python",
   "nbconvert_exporter": "python",
   "pygments_lexer": "ipython3",
   "version": "3.12.4"
  }
 },
 "nbformat": 4,
 "nbformat_minor": 2
}
