{
 "cells": [
  {
   "cell_type": "code",
   "id": "initial_id",
   "metadata": {
    "collapsed": true,
    "ExecuteTime": {
     "end_time": "2024-11-03T14:50:49.017798Z",
     "start_time": "2024-11-03T14:50:49.010379Z"
    }
   },
   "source": [
    "import numpy as np\n",
    "from sympy.logic.boolalg import disjuncts\n",
    "\n",
    "import bench_utils\n",
    "import csv\n",
    "\n",
    "def coupling_map_to_pGraph(coupling_map):\n",
    "    import rustworkx as rx\n",
    "    MAX_DIST = 1000000\n",
    "    G = rx.adjacency_matrix(coupling_map.graph)\n",
    "    C = np.ones((coupling_map.size(), coupling_map.size())) * MAX_DIST\n",
    "    np.fill_diagonal(C, 0)\n",
    "    for src, dst in coupling_map.get_edges():\n",
    "        C[src, dst] = 1\n",
    "    return G, C\n",
    "\n",
    "max_dist = 1000000\n",
    "max_size = 1000000\n",
    "\n",
    "def is_code_reduced(code):\n",
    "    if code in ['melbourne', 'manhattan']:\n",
    "        reduced = True\n",
    "    else:\n",
    "        reduced = False\n",
    "    return reduced\n",
    "\n",
    "import os\n",
    "\n",
    "\n",
    "def load_graph(code, dist_comp=False, len_func=lambda x: x):\n",
    "    # if code == 'sycamore':\n",
    "    #     return load_sycamore_graph(dist_comp)\n",
    "    # reduced = is_code_reduced(code)\n",
    "    \n",
    "    reduced = False\n",
    "    \n",
    "    print('reduced:', reduced)\n",
    "    pth = os.path.join('../../tetris/arch', 'data', 'ibmq_' + code + '_calibrations.csv')\n",
    "    cgs = []\n",
    "    n = 0\n",
    "    with open(pth, 'r') as cf:\n",
    "        g = csv.DictReader(cf, delimiter=',', quotechar='\\\"')\n",
    "        for i in g:\n",
    "            cxval = \"\"\n",
    "            for j in i.keys():\n",
    "                if j.find('CNOT') != -1:\n",
    "                    cxval = i[j]\n",
    "            n += 1\n",
    "            if ';' in cxval:\n",
    "                dc = ';'\n",
    "            else:\n",
    "                dc = ','\n",
    "            for j in cxval.split(dc):\n",
    "                cgs.append(j.strip())\n",
    "    if reduced:\n",
    "        n -= 1  # qubit n is not used\n",
    "    G = np.zeros((n, n))\n",
    "    C = np.ones((n, n)) * max_dist\n",
    "    for i in range(n):\n",
    "        C[i, i] = 0\n",
    "    for i in cgs:\n",
    "        si1 = i.find('_')\n",
    "        si2 = i.find(':')\n",
    "        offset = 0\n",
    "        if i[:2] == 'cx':\n",
    "            offset = 2\n",
    "        iq1 = int(i[offset:si1])\n",
    "        iq2 = int(i[si1 + 1:si2])\n",
    "        acc = float(i[si2 + 2:]) * 1000\n",
    "        if (iq1 < n and iq2 < n) or not reduced:\n",
    "            G[iq1, iq2] = 1\n",
    "            C[iq1, iq2] = len_func(acc / 1000)\n",
    "    if dist_comp == True:\n",
    "        for i in range(n):\n",
    "            dijkstra(C, i)\n",
    "    return G, C\n",
    "\n",
    "def minDistance(dist, sptSet):\n",
    "    minv = max_size\n",
    "    min_index = -1\n",
    "    n = len(dist)\n",
    "    for v in range(n):\n",
    "        if dist[v] < minv and sptSet[v] == False:\n",
    "            minv = dist[v]\n",
    "            min_index = v\n",
    "    return min_index\n",
    "\n",
    "def dijkstra(dist_matrix, src):\n",
    "    n = dist_matrix.shape[0]\n",
    "    dist = [dist_matrix[src, i] for i in range(n)]\n",
    "    sptSet = [False] * n\n",
    "    for cout in range(n):\n",
    "        u = minDistance(dist, sptSet)\n",
    "        if u == -1:\n",
    "            break\n",
    "        sptSet[u] = True\n",
    "        for v in range(n):\n",
    "            if dist_matrix[u, v] > 0 and sptSet[v] == False and \\\n",
    "                    dist[v] > dist[u] + dist_matrix[u, v]:\n",
    "                dist[v] = dist[u] + dist_matrix[u, v]\n",
    "    for i in range(n):\n",
    "        dist_matrix[src, i] = dist[i]\n",
    "        dist_matrix[i, src] = dist[i]"
   ],
   "outputs": [],
   "execution_count": 22
  },
  {
   "metadata": {
    "ExecuteTime": {
     "end_time": "2024-11-03T14:51:56.429428Z",
     "start_time": "2024-11-03T14:51:56.369594Z"
    }
   },
   "cell_type": "code",
   "source": "G, C = load_graph('manhattan', True)",
   "id": "b79532b286b7976c",
   "outputs": [
    {
     "name": "stdout",
     "output_type": "stream",
     "text": [
      "reduced: False\n"
     ]
    }
   ],
   "execution_count": 31
  },
  {
   "metadata": {
    "ExecuteTime": {
     "end_time": "2024-11-03T14:50:53.928394Z",
     "start_time": "2024-11-03T14:50:53.925672Z"
    }
   },
   "cell_type": "code",
   "source": "np.count_nonzero(G)",
   "id": "eb6c16e9b9703ce",
   "outputs": [
    {
     "data": {
      "text/plain": [
       "144"
      ]
     },
     "execution_count": 24,
     "metadata": {},
     "output_type": "execute_result"
    }
   ],
   "execution_count": 24
  },
  {
   "metadata": {
    "ExecuteTime": {
     "end_time": "2024-11-03T14:51:58.111597Z",
     "start_time": "2024-11-03T14:51:58.108408Z"
    }
   },
   "cell_type": "code",
   "source": "np.unique(C)\n",
   "id": "dc0845982ef95d84",
   "outputs": [
    {
     "data": {
      "text/plain": [
       "array([0.      , 0.008063, 0.008321, ..., 0.283091, 0.287921, 0.296245])"
      ]
     },
     "execution_count": 32,
     "metadata": {},
     "output_type": "execute_result"
    }
   ],
   "execution_count": 32
  },
  {
   "metadata": {},
   "cell_type": "code",
   "outputs": [],
   "execution_count": null,
   "source": "",
   "id": "91ef593fe841a580"
  },
  {
   "metadata": {},
   "cell_type": "code",
   "outputs": [],
   "execution_count": null,
   "source": "",
   "id": "4b5f870e8133afd2"
  },
  {
   "metadata": {},
   "cell_type": "code",
   "outputs": [],
   "execution_count": null,
   "source": "",
   "id": "99a8f92b75153089"
  },
  {
   "metadata": {
    "ExecuteTime": {
     "end_time": "2024-11-03T14:52:04.848591Z",
     "start_time": "2024-11-03T14:52:04.846898Z"
    }
   },
   "cell_type": "code",
   "source": "G1, C1 = coupling_map_to_pGraph(bench_utils.Manhattan)",
   "id": "d8ee5bab00ada242",
   "outputs": [],
   "execution_count": 33
  },
  {
   "metadata": {
    "ExecuteTime": {
     "end_time": "2024-11-03T14:52:07.587522Z",
     "start_time": "2024-11-03T14:52:07.584708Z"
    }
   },
   "cell_type": "code",
   "source": "np.count_nonzero(G1)",
   "id": "6ecca6940367d7fe",
   "outputs": [
    {
     "data": {
      "text/plain": [
       "144"
      ]
     },
     "execution_count": 34,
     "metadata": {},
     "output_type": "execute_result"
    }
   ],
   "execution_count": 34
  },
  {
   "metadata": {
    "ExecuteTime": {
     "end_time": "2024-11-03T14:53:00.285690Z",
     "start_time": "2024-11-03T14:53:00.238762Z"
    }
   },
   "cell_type": "code",
   "source": [
    "for i in range(65):\n",
    "    dijkstra(C1, i)\n",
    "    "
   ],
   "id": "ff2f9fa462ef39f6",
   "outputs": [],
   "execution_count": 36
  },
  {
   "metadata": {
    "ExecuteTime": {
     "end_time": "2024-11-03T14:53:11.901541Z",
     "start_time": "2024-11-03T14:53:11.899284Z"
    }
   },
   "cell_type": "code",
   "source": "",
   "id": "cded153ce5a031bf",
   "outputs": [
    {
     "data": {
      "text/plain": [
       "array([[0.      , 0.01172 , 0.02698 , ..., 0.267571, 0.287921, 0.280805],\n",
       "       [0.01172 , 0.      , 0.01526 , ..., 0.257828, 0.278178, 0.269085],\n",
       "       [0.02698 , 0.01526 , 0.      , ..., 0.242568, 0.262918, 0.253825],\n",
       "       ...,\n",
       "       [0.267571, 0.257828, 0.242568, ..., 0.      , 0.02035 , 0.04564 ],\n",
       "       [0.287921, 0.278178, 0.262918, ..., 0.02035 , 0.      , 0.02529 ],\n",
       "       [0.280805, 0.269085, 0.253825, ..., 0.04564 , 0.02529 , 0.      ]])"
      ]
     },
     "execution_count": 38,
     "metadata": {},
     "output_type": "execute_result"
    }
   ],
   "execution_count": 38
  },
  {
   "metadata": {
    "ExecuteTime": {
     "end_time": "2024-11-03T14:52:51.200684Z",
     "start_time": "2024-11-03T14:52:51.198387Z"
    }
   },
   "cell_type": "code",
   "source": "C1.shape",
   "id": "ff58789c0acd626e",
   "outputs": [
    {
     "data": {
      "text/plain": [
       "(65, 65)"
      ]
     },
     "execution_count": 35,
     "metadata": {},
     "output_type": "execute_result"
    }
   ],
   "execution_count": 35
  }
 ],
 "metadata": {
  "kernelspec": {
   "display_name": "Python 3",
   "language": "python",
   "name": "python3"
  },
  "language_info": {
   "codemirror_mode": {
    "name": "ipython",
    "version": 2
   },
   "file_extension": ".py",
   "mimetype": "text/x-python",
   "name": "python",
   "nbconvert_exporter": "python",
   "pygments_lexer": "ipython2",
   "version": "2.7.6"
  }
 },
 "nbformat": 4,
 "nbformat_minor": 5
}
