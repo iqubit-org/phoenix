{
 "cells": [
  {
   "cell_type": "code",
   "execution_count": 9,
   "metadata": {},
   "outputs": [],
   "source": [
    "import sys\n",
    "sys.path.append('../')\n",
    "\n",
    "import os\n",
    "import json\n",
    "import qiskit\n",
    "import pytket\n",
    "import pytket.qasm\n",
    "import numpy as np\n",
    "import pandas as pd\n",
    "import matplotlib.pyplot as plt\n",
    "from functools import reduce\n",
    "from phoenix import gates, Circuit, models\n",
    "from phoenix.utils.operations import tensor_slots\n",
    "from phoenix.utils.functions import infidelity\n",
    "from scipy.stats import gmean\n",
    "\n",
    "selected_molecules = ['LiH_frz_BK_sto3g', 'LiH_frz_JW_sto3g', 'NH_frz_BK_sto3g', 'NH_frz_JW_sto3g']"
   ]
  },
  {
   "cell_type": "code",
   "execution_count": 2,
   "metadata": {},
   "outputs": [],
   "source": [
    "result_tket = pd.read_csv('tket_algo_err.csv')\n",
    "result_phoenix = pd.read_csv('phoenix_algo_err.csv')"
   ]
  },
  {
   "cell_type": "code",
   "execution_count": null,
   "metadata": {},
   "outputs": [
    {
     "data": {
      "text/html": [
       "<div>\n",
       "<style scoped>\n",
       "    .dataframe tbody tr th:only-of-type {\n",
       "        vertical-align: middle;\n",
       "    }\n",
       "\n",
       "    .dataframe tbody tr th {\n",
       "        vertical-align: top;\n",
       "    }\n",
       "\n",
       "    .dataframe thead th {\n",
       "        text-align: right;\n",
       "    }\n",
       "</style>\n",
       "<table border=\"1\" class=\"dataframe\">\n",
       "  <thead>\n",
       "    <tr style=\"text-align: right;\">\n",
       "      <th></th>\n",
       "      <th>LiH_frz_BK_sto3g</th>\n",
       "      <th>LiH_frz_JW_sto3g</th>\n",
       "      <th>NH_frz_BK_sto3g</th>\n",
       "      <th>NH_frz_JW_sto3g</th>\n",
       "      <th>amp</th>\n",
       "    </tr>\n",
       "  </thead>\n",
       "  <tbody>\n",
       "    <tr>\n",
       "      <th>0</th>\n",
       "      <td>0.000111</td>\n",
       "      <td>0.000111</td>\n",
       "      <td>0.000538</td>\n",
       "      <td>0.000538</td>\n",
       "      <td>0.6</td>\n",
       "    </tr>\n",
       "    <tr>\n",
       "      <th>1</th>\n",
       "      <td>0.000349</td>\n",
       "      <td>0.000349</td>\n",
       "      <td>0.001672</td>\n",
       "      <td>0.001672</td>\n",
       "      <td>0.8</td>\n",
       "    </tr>\n",
       "    <tr>\n",
       "      <th>2</th>\n",
       "      <td>0.000845</td>\n",
       "      <td>0.000845</td>\n",
       "      <td>0.003996</td>\n",
       "      <td>0.003996</td>\n",
       "      <td>1.0</td>\n",
       "    </tr>\n",
       "    <tr>\n",
       "      <th>3</th>\n",
       "      <td>0.001729</td>\n",
       "      <td>0.001729</td>\n",
       "      <td>0.008071</td>\n",
       "      <td>0.008071</td>\n",
       "      <td>1.2</td>\n",
       "    </tr>\n",
       "    <tr>\n",
       "      <th>4</th>\n",
       "      <td>0.003156</td>\n",
       "      <td>0.003156</td>\n",
       "      <td>0.014489</td>\n",
       "      <td>0.014489</td>\n",
       "      <td>1.4</td>\n",
       "    </tr>\n",
       "    <tr>\n",
       "      <th>5</th>\n",
       "      <td>0.005290</td>\n",
       "      <td>0.005290</td>\n",
       "      <td>0.023825</td>\n",
       "      <td>0.023825</td>\n",
       "      <td>1.6</td>\n",
       "    </tr>\n",
       "    <tr>\n",
       "      <th>6</th>\n",
       "      <td>0.008306</td>\n",
       "      <td>0.008306</td>\n",
       "      <td>0.036588</td>\n",
       "      <td>0.036588</td>\n",
       "      <td>1.8</td>\n",
       "    </tr>\n",
       "  </tbody>\n",
       "</table>\n",
       "</div>"
      ],
      "text/plain": [
       "   LiH_frz_BK_sto3g  LiH_frz_JW_sto3g  NH_frz_BK_sto3g  NH_frz_JW_sto3g  amp\n",
       "0          0.000111          0.000111         0.000538         0.000538  0.6\n",
       "1          0.000349          0.000349         0.001672         0.001672  0.8\n",
       "2          0.000845          0.000845         0.003996         0.003996  1.0\n",
       "3          0.001729          0.001729         0.008071         0.008071  1.2\n",
       "4          0.003156          0.003156         0.014489         0.014489  1.4\n",
       "5          0.005290          0.005290         0.023825         0.023825  1.6\n",
       "6          0.008306          0.008306         0.036588         0.036588  1.8"
      ]
     },
     "execution_count": 4,
     "metadata": {},
     "output_type": "execute_result"
    }
   ],
   "source": [
    "result_tket['']"
   ]
  },
  {
   "cell_type": "code",
   "execution_count": 14,
   "metadata": {},
   "outputs": [
    {
     "name": "stdout",
     "output_type": "stream",
     "text": [
      "0.5699220535273521 0.4954662070239402 0.42721465298162853 0.341221315497548\n"
     ]
    }
   ],
   "source": [
    "print(1 - gmean(result_phoenix['NH_frz_BK_sto3g'] / result_tket['NH_frz_BK_sto3g']), \n",
    "      1 - gmean(result_phoenix['NH_frz_JW_sto3g'] / result_tket['NH_frz_JW_sto3g']), \n",
    "      1 - gmean(result_phoenix['LiH_frz_BK_sto3g'] / result_tket['LiH_frz_BK_sto3g']), \n",
    "      1 - gmean(result_phoenix['LiH_frz_JW_sto3g'] / result_tket['LiH_frz_JW_sto3g']))\n",
    "\n",
    "# 0.5699220535273521 0.4954662070239402 0.42721465298162853 0.341221315497548"
   ]
  },
  {
   "cell_type": "code",
   "execution_count": null,
   "metadata": {},
   "outputs": [],
   "source": []
  },
  {
   "cell_type": "code",
   "execution_count": null,
   "metadata": {},
   "outputs": [],
   "source": []
  },
  {
   "cell_type": "code",
   "execution_count": 69,
   "metadata": {},
   "outputs": [],
   "source": [
    "def ideal_evolution(json_fname):\n",
    "    X = gates.X.data\n",
    "    with open(json_fname, 'r') as f:\n",
    "        data = json.load(f)\n",
    "    ham = models.HamiltonianModel(data['paulis'], data['coeffs'])\n",
    "    u = ham.unitary_evolution()\n",
    "    u = u @ tensor_slots(reduce(np.kron, [X for _ in data['front_x_on']]), ham.num_qubits, data['front_x_on'])\n",
    "    return u\n",
    "\n",
    "def qiskit_O3_all2all(circ: qiskit.QuantumCircuit) -> qiskit.QuantumCircuit:\n",
    "    from itertools import combinations\n",
    "    for q0, q1 in combinations(range(circ.num_qubits), 2):\n",
    "        circ.cx(q0, q1)\n",
    "        circ.cx(q0, q1)\n",
    "    circ = qiskit.transpile(circ, optimization_level=3, basis_gates=['u1', 'u2', 'u3', 'cx'])\n",
    "    return circ\n",
    "\n",
    "def qiskit_to_unitary(qc):\n",
    "    import cirq\n",
    "    import qiskit.qasm2\n",
    "    from cirq.contrib.qasm_import import circuit_from_qasm\n",
    "    circ = circuit_from_qasm(qiskit.qasm2.dumps(qc))\n",
    "    return cirq.unitary(circ)\n",
    "\n",
    "def tket_pass(circ) -> pytket.Circuit:\n",
    "    from phoenix.synthesis.utils import unroll_u3\n",
    "\n",
    "    # unroll U3\n",
    "    circ = unroll_u3(circ).to_tket()\n",
    "\n",
    "    # adaptive PauliSimp\n",
    "    circ_tmp = circ.copy()\n",
    "    best_depth_2q = circ.depth_2q()\n",
    "    best_num_2q_gates = circ.n_2qb_gates()\n",
    "    while True:\n",
    "        pytket.passes.PauliSimp().apply(circ_tmp)\n",
    "        if best_depth_2q > circ_tmp.depth_2q() and best_num_2q_gates > circ_tmp.n_2qb_gates():\n",
    "            best_depth_2q = circ_tmp.depth_2q()\n",
    "            best_num_2q_gates = circ_tmp.n_2qb_gates()\n",
    "            circ = circ_tmp.copy()\n",
    "        else:\n",
    "            break\n",
    "\n",
    "    # ! full peephole optimization: because when allow_swaps=True there might be fault synthesis results\n",
    "    # pytket.passes.FullPeepholeOptimise(allow_swaps=False).apply(circ)\n",
    "\n",
    "    return circ\n",
    "\n",
    "def phoenix_pass(ham):\n",
    "    # front_x_gates = [gates.X.on(q) for q in data['front_x_on']]\n",
    "    circ = ham.phoenix_circuit()\n",
    "    # circ.prepend(*front_x_gates)\n",
    "    circ = qiskit_O3_all2all(circ.to_qiskit())\n",
    "    return circ"
   ]
  },
  {
   "cell_type": "code",
   "execution_count": 46,
   "metadata": {},
   "outputs": [],
   "source": [
    "json_fname = '../benchmarks/uccsd_json/{}.json'.format(selected_molecules[0])\n",
    "qasm_fname = json_fname.replace('json', 'qasm')"
   ]
  },
  {
   "cell_type": "code",
   "execution_count": 105,
   "metadata": {},
   "outputs": [],
   "source": [
    "json_fname = '../benchmarks/uccsd_json/{}.json'.format(mol)\n",
    "\n",
    "with open(json_fname, 'r') as f:\n",
    "    data = json.load(f)"
   ]
  },
  {
   "cell_type": "code",
   "execution_count": 70,
   "metadata": {},
   "outputs": [
    {
     "name": "stdout",
     "output_type": "stream",
     "text": [
      "\n",
      "Molecule: LIH_frz_BK_sto3g\n"
     ]
    },
    {
     "name": "stderr",
     "output_type": "stream",
     "text": [
      "/Users/anan/miniconda3/lib/python3.12/site-packages/numpy/linalg/linalg.py:2180: RuntimeWarning: divide by zero encountered in det\n",
      "  r = _umath_linalg.det(a, signature=signature)\n",
      "/Users/anan/miniconda3/lib/python3.12/site-packages/numpy/linalg/linalg.py:2180: RuntimeWarning: invalid value encountered in det\n",
      "  r = _umath_linalg.det(a, signature=signature)\n"
     ]
    },
    {
     "name": "stdout",
     "output_type": "stream",
     "text": [
      "0.6 Molecule: TKet 0.000111, Phoenix 0.000063\n"
     ]
    },
    {
     "name": "stderr",
     "output_type": "stream",
     "text": [
      "/Users/anan/miniconda3/lib/python3.12/site-packages/numpy/linalg/linalg.py:2180: RuntimeWarning: divide by zero encountered in det\n",
      "  r = _umath_linalg.det(a, signature=signature)\n",
      "/Users/anan/miniconda3/lib/python3.12/site-packages/numpy/linalg/linalg.py:2180: RuntimeWarning: invalid value encountered in det\n",
      "  r = _umath_linalg.det(a, signature=signature)\n"
     ]
    },
    {
     "name": "stdout",
     "output_type": "stream",
     "text": [
      "0.8 Molecule: TKet 0.000349, Phoenix 0.000198\n"
     ]
    },
    {
     "name": "stderr",
     "output_type": "stream",
     "text": [
      "/Users/anan/miniconda3/lib/python3.12/site-packages/numpy/linalg/linalg.py:2180: RuntimeWarning: divide by zero encountered in det\n",
      "  r = _umath_linalg.det(a, signature=signature)\n",
      "/Users/anan/miniconda3/lib/python3.12/site-packages/numpy/linalg/linalg.py:2180: RuntimeWarning: invalid value encountered in det\n",
      "  r = _umath_linalg.det(a, signature=signature)\n"
     ]
    },
    {
     "name": "stdout",
     "output_type": "stream",
     "text": [
      "1 Molecule: TKet 0.000845, Phoenix 0.000481\n"
     ]
    },
    {
     "name": "stderr",
     "output_type": "stream",
     "text": [
      "/Users/anan/miniconda3/lib/python3.12/site-packages/numpy/linalg/linalg.py:2180: RuntimeWarning: divide by zero encountered in det\n",
      "  r = _umath_linalg.det(a, signature=signature)\n",
      "/Users/anan/miniconda3/lib/python3.12/site-packages/numpy/linalg/linalg.py:2180: RuntimeWarning: invalid value encountered in det\n",
      "  r = _umath_linalg.det(a, signature=signature)\n"
     ]
    },
    {
     "name": "stdout",
     "output_type": "stream",
     "text": [
      "1.2 Molecule: TKet 0.001729, Phoenix 0.000989\n"
     ]
    },
    {
     "name": "stderr",
     "output_type": "stream",
     "text": [
      "/Users/anan/miniconda3/lib/python3.12/site-packages/numpy/linalg/linalg.py:2180: RuntimeWarning: divide by zero encountered in det\n",
      "  r = _umath_linalg.det(a, signature=signature)\n",
      "/Users/anan/miniconda3/lib/python3.12/site-packages/numpy/linalg/linalg.py:2180: RuntimeWarning: invalid value encountered in det\n",
      "  r = _umath_linalg.det(a, signature=signature)\n"
     ]
    },
    {
     "name": "stdout",
     "output_type": "stream",
     "text": [
      "1.4 Molecule: TKet 0.003156, Phoenix 0.001814\n"
     ]
    },
    {
     "name": "stderr",
     "output_type": "stream",
     "text": [
      "/Users/anan/miniconda3/lib/python3.12/site-packages/numpy/linalg/linalg.py:2180: RuntimeWarning: divide by zero encountered in det\n",
      "  r = _umath_linalg.det(a, signature=signature)\n",
      "/Users/anan/miniconda3/lib/python3.12/site-packages/numpy/linalg/linalg.py:2180: RuntimeWarning: invalid value encountered in det\n",
      "  r = _umath_linalg.det(a, signature=signature)\n"
     ]
    },
    {
     "name": "stdout",
     "output_type": "stream",
     "text": [
      "1.6 Molecule: TKet 0.005290, Phoenix 0.003058\n"
     ]
    },
    {
     "name": "stderr",
     "output_type": "stream",
     "text": [
      "/Users/anan/miniconda3/lib/python3.12/site-packages/numpy/linalg/linalg.py:2180: RuntimeWarning: divide by zero encountered in det\n",
      "  r = _umath_linalg.det(a, signature=signature)\n",
      "/Users/anan/miniconda3/lib/python3.12/site-packages/numpy/linalg/linalg.py:2180: RuntimeWarning: invalid value encountered in det\n",
      "  r = _umath_linalg.det(a, signature=signature)\n"
     ]
    },
    {
     "name": "stdout",
     "output_type": "stream",
     "text": [
      "1.8 Molecule: TKet 0.008306, Phoenix 0.004834\n",
      "\n",
      "Molecule: LIH_frz_JW_sto3g\n"
     ]
    },
    {
     "name": "stderr",
     "output_type": "stream",
     "text": [
      "/Users/anan/miniconda3/lib/python3.12/site-packages/numpy/linalg/linalg.py:2180: RuntimeWarning: divide by zero encountered in det\n",
      "  r = _umath_linalg.det(a, signature=signature)\n",
      "/Users/anan/miniconda3/lib/python3.12/site-packages/numpy/linalg/linalg.py:2180: RuntimeWarning: invalid value encountered in det\n",
      "  r = _umath_linalg.det(a, signature=signature)\n"
     ]
    },
    {
     "name": "stdout",
     "output_type": "stream",
     "text": [
      "0.6 Molecule: TKet 0.000111, Phoenix 0.000073\n"
     ]
    },
    {
     "name": "stderr",
     "output_type": "stream",
     "text": [
      "/Users/anan/miniconda3/lib/python3.12/site-packages/numpy/linalg/linalg.py:2180: RuntimeWarning: divide by zero encountered in det\n",
      "  r = _umath_linalg.det(a, signature=signature)\n",
      "/Users/anan/miniconda3/lib/python3.12/site-packages/numpy/linalg/linalg.py:2180: RuntimeWarning: invalid value encountered in det\n",
      "  r = _umath_linalg.det(a, signature=signature)\n"
     ]
    },
    {
     "name": "stdout",
     "output_type": "stream",
     "text": [
      "0.8 Molecule: TKet 0.000349, Phoenix 0.000229\n"
     ]
    },
    {
     "name": "stderr",
     "output_type": "stream",
     "text": [
      "/Users/anan/miniconda3/lib/python3.12/site-packages/numpy/linalg/linalg.py:2180: RuntimeWarning: divide by zero encountered in det\n",
      "  r = _umath_linalg.det(a, signature=signature)\n",
      "/Users/anan/miniconda3/lib/python3.12/site-packages/numpy/linalg/linalg.py:2180: RuntimeWarning: invalid value encountered in det\n",
      "  r = _umath_linalg.det(a, signature=signature)\n"
     ]
    },
    {
     "name": "stdout",
     "output_type": "stream",
     "text": [
      "1 Molecule: TKet 0.000845, Phoenix 0.000555\n"
     ]
    },
    {
     "name": "stderr",
     "output_type": "stream",
     "text": [
      "/Users/anan/miniconda3/lib/python3.12/site-packages/numpy/linalg/linalg.py:2180: RuntimeWarning: divide by zero encountered in det\n",
      "  r = _umath_linalg.det(a, signature=signature)\n",
      "/Users/anan/miniconda3/lib/python3.12/site-packages/numpy/linalg/linalg.py:2180: RuntimeWarning: invalid value encountered in det\n",
      "  r = _umath_linalg.det(a, signature=signature)\n"
     ]
    },
    {
     "name": "stdout",
     "output_type": "stream",
     "text": [
      "1.2 Molecule: TKet 0.001729, Phoenix 0.001138\n"
     ]
    },
    {
     "name": "stderr",
     "output_type": "stream",
     "text": [
      "/Users/anan/miniconda3/lib/python3.12/site-packages/numpy/linalg/linalg.py:2180: RuntimeWarning: divide by zero encountered in det\n",
      "  r = _umath_linalg.det(a, signature=signature)\n",
      "/Users/anan/miniconda3/lib/python3.12/site-packages/numpy/linalg/linalg.py:2180: RuntimeWarning: invalid value encountered in det\n",
      "  r = _umath_linalg.det(a, signature=signature)\n"
     ]
    },
    {
     "name": "stdout",
     "output_type": "stream",
     "text": [
      "1.4 Molecule: TKet 0.003156, Phoenix 0.002082\n"
     ]
    },
    {
     "name": "stderr",
     "output_type": "stream",
     "text": [
      "/Users/anan/miniconda3/lib/python3.12/site-packages/numpy/linalg/linalg.py:2180: RuntimeWarning: divide by zero encountered in det\n",
      "  r = _umath_linalg.det(a, signature=signature)\n",
      "/Users/anan/miniconda3/lib/python3.12/site-packages/numpy/linalg/linalg.py:2180: RuntimeWarning: invalid value encountered in det\n",
      "  r = _umath_linalg.det(a, signature=signature)\n"
     ]
    },
    {
     "name": "stdout",
     "output_type": "stream",
     "text": [
      "1.6 Molecule: TKet 0.005290, Phoenix 0.003499\n"
     ]
    },
    {
     "name": "stderr",
     "output_type": "stream",
     "text": [
      "/Users/anan/miniconda3/lib/python3.12/site-packages/numpy/linalg/linalg.py:2180: RuntimeWarning: divide by zero encountered in det\n",
      "  r = _umath_linalg.det(a, signature=signature)\n",
      "/Users/anan/miniconda3/lib/python3.12/site-packages/numpy/linalg/linalg.py:2180: RuntimeWarning: invalid value encountered in det\n",
      "  r = _umath_linalg.det(a, signature=signature)\n"
     ]
    },
    {
     "name": "stdout",
     "output_type": "stream",
     "text": [
      "1.8 Molecule: TKet 0.008306, Phoenix 0.005510\n",
      "\n",
      "Molecule: NH_frz_BK_sto3g\n"
     ]
    },
    {
     "name": "stderr",
     "output_type": "stream",
     "text": [
      "/Users/anan/miniconda3/lib/python3.12/site-packages/numpy/linalg/linalg.py:2180: RuntimeWarning: divide by zero encountered in det\n",
      "  r = _umath_linalg.det(a, signature=signature)\n",
      "/Users/anan/miniconda3/lib/python3.12/site-packages/numpy/linalg/linalg.py:2180: RuntimeWarning: invalid value encountered in det\n",
      "  r = _umath_linalg.det(a, signature=signature)\n"
     ]
    },
    {
     "name": "stdout",
     "output_type": "stream",
     "text": [
      "0.6 Molecule: TKet 0.000538, Phoenix 0.000226\n"
     ]
    },
    {
     "name": "stderr",
     "output_type": "stream",
     "text": [
      "/Users/anan/miniconda3/lib/python3.12/site-packages/numpy/linalg/linalg.py:2180: RuntimeWarning: divide by zero encountered in det\n",
      "  r = _umath_linalg.det(a, signature=signature)\n",
      "/Users/anan/miniconda3/lib/python3.12/site-packages/numpy/linalg/linalg.py:2180: RuntimeWarning: invalid value encountered in det\n",
      "  r = _umath_linalg.det(a, signature=signature)\n"
     ]
    },
    {
     "name": "stdout",
     "output_type": "stream",
     "text": [
      "0.8 Molecule: TKet 0.001672, Phoenix 0.000706\n"
     ]
    },
    {
     "name": "stderr",
     "output_type": "stream",
     "text": [
      "/Users/anan/miniconda3/lib/python3.12/site-packages/numpy/linalg/linalg.py:2180: RuntimeWarning: divide by zero encountered in det\n",
      "  r = _umath_linalg.det(a, signature=signature)\n",
      "/Users/anan/miniconda3/lib/python3.12/site-packages/numpy/linalg/linalg.py:2180: RuntimeWarning: invalid value encountered in det\n",
      "  r = _umath_linalg.det(a, signature=signature)\n"
     ]
    },
    {
     "name": "stdout",
     "output_type": "stream",
     "text": [
      "1 Molecule: TKet 0.003996, Phoenix 0.001699\n"
     ]
    },
    {
     "name": "stderr",
     "output_type": "stream",
     "text": [
      "/Users/anan/miniconda3/lib/python3.12/site-packages/numpy/linalg/linalg.py:2180: RuntimeWarning: divide by zero encountered in det\n",
      "  r = _umath_linalg.det(a, signature=signature)\n",
      "/Users/anan/miniconda3/lib/python3.12/site-packages/numpy/linalg/linalg.py:2180: RuntimeWarning: invalid value encountered in det\n",
      "  r = _umath_linalg.det(a, signature=signature)\n"
     ]
    },
    {
     "name": "stdout",
     "output_type": "stream",
     "text": [
      "1.2 Molecule: TKet 0.008071, Phoenix 0.003458\n"
     ]
    },
    {
     "name": "stderr",
     "output_type": "stream",
     "text": [
      "/Users/anan/miniconda3/lib/python3.12/site-packages/numpy/linalg/linalg.py:2180: RuntimeWarning: divide by zero encountered in det\n",
      "  r = _umath_linalg.det(a, signature=signature)\n",
      "/Users/anan/miniconda3/lib/python3.12/site-packages/numpy/linalg/linalg.py:2180: RuntimeWarning: invalid value encountered in det\n",
      "  r = _umath_linalg.det(a, signature=signature)\n"
     ]
    },
    {
     "name": "stdout",
     "output_type": "stream",
     "text": [
      "1.4 Molecule: TKet 0.014489, Phoenix 0.006270\n"
     ]
    },
    {
     "name": "stderr",
     "output_type": "stream",
     "text": [
      "/Users/anan/miniconda3/lib/python3.12/site-packages/numpy/linalg/linalg.py:2180: RuntimeWarning: divide by zero encountered in det\n",
      "  r = _umath_linalg.det(a, signature=signature)\n",
      "/Users/anan/miniconda3/lib/python3.12/site-packages/numpy/linalg/linalg.py:2180: RuntimeWarning: invalid value encountered in det\n",
      "  r = _umath_linalg.det(a, signature=signature)\n"
     ]
    },
    {
     "name": "stdout",
     "output_type": "stream",
     "text": [
      "1.6 Molecule: TKet 0.023825, Phoenix 0.010433\n"
     ]
    },
    {
     "name": "stderr",
     "output_type": "stream",
     "text": [
      "/Users/anan/miniconda3/lib/python3.12/site-packages/numpy/linalg/linalg.py:2180: RuntimeWarning: divide by zero encountered in det\n",
      "  r = _umath_linalg.det(a, signature=signature)\n",
      "/Users/anan/miniconda3/lib/python3.12/site-packages/numpy/linalg/linalg.py:2180: RuntimeWarning: invalid value encountered in det\n",
      "  r = _umath_linalg.det(a, signature=signature)\n"
     ]
    },
    {
     "name": "stdout",
     "output_type": "stream",
     "text": [
      "1.8 Molecule: TKet 0.036588, Phoenix 0.016247\n",
      "\n",
      "Molecule: NH_frz_JW_sto3g\n"
     ]
    },
    {
     "name": "stderr",
     "output_type": "stream",
     "text": [
      "/Users/anan/miniconda3/lib/python3.12/site-packages/numpy/linalg/linalg.py:2180: RuntimeWarning: divide by zero encountered in det\n",
      "  r = _umath_linalg.det(a, signature=signature)\n",
      "/Users/anan/miniconda3/lib/python3.12/site-packages/numpy/linalg/linalg.py:2180: RuntimeWarning: invalid value encountered in det\n",
      "  r = _umath_linalg.det(a, signature=signature)\n"
     ]
    },
    {
     "name": "stdout",
     "output_type": "stream",
     "text": [
      "0.6 Molecule: TKet 0.000538, Phoenix 0.000270\n"
     ]
    },
    {
     "name": "stderr",
     "output_type": "stream",
     "text": [
      "/Users/anan/miniconda3/lib/python3.12/site-packages/numpy/linalg/linalg.py:2180: RuntimeWarning: divide by zero encountered in det\n",
      "  r = _umath_linalg.det(a, signature=signature)\n",
      "/Users/anan/miniconda3/lib/python3.12/site-packages/numpy/linalg/linalg.py:2180: RuntimeWarning: invalid value encountered in det\n",
      "  r = _umath_linalg.det(a, signature=signature)\n"
     ]
    },
    {
     "name": "stdout",
     "output_type": "stream",
     "text": [
      "0.8 Molecule: TKet 0.001672, Phoenix 0.000839\n"
     ]
    },
    {
     "name": "stderr",
     "output_type": "stream",
     "text": [
      "/Users/anan/miniconda3/lib/python3.12/site-packages/numpy/linalg/linalg.py:2180: RuntimeWarning: divide by zero encountered in det\n",
      "  r = _umath_linalg.det(a, signature=signature)\n",
      "/Users/anan/miniconda3/lib/python3.12/site-packages/numpy/linalg/linalg.py:2180: RuntimeWarning: invalid value encountered in det\n",
      "  r = _umath_linalg.det(a, signature=signature)\n"
     ]
    },
    {
     "name": "stdout",
     "output_type": "stream",
     "text": [
      "1 Molecule: TKet 0.003996, Phoenix 0.002009\n"
     ]
    },
    {
     "name": "stderr",
     "output_type": "stream",
     "text": [
      "/Users/anan/miniconda3/lib/python3.12/site-packages/numpy/linalg/linalg.py:2180: RuntimeWarning: divide by zero encountered in det\n",
      "  r = _umath_linalg.det(a, signature=signature)\n",
      "/Users/anan/miniconda3/lib/python3.12/site-packages/numpy/linalg/linalg.py:2180: RuntimeWarning: invalid value encountered in det\n",
      "  r = _umath_linalg.det(a, signature=signature)\n"
     ]
    },
    {
     "name": "stdout",
     "output_type": "stream",
     "text": [
      "1.2 Molecule: TKet 0.008071, Phoenix 0.004067\n"
     ]
    },
    {
     "name": "stderr",
     "output_type": "stream",
     "text": [
      "/Users/anan/miniconda3/lib/python3.12/site-packages/numpy/linalg/linalg.py:2180: RuntimeWarning: divide by zero encountered in det\n",
      "  r = _umath_linalg.det(a, signature=signature)\n",
      "/Users/anan/miniconda3/lib/python3.12/site-packages/numpy/linalg/linalg.py:2180: RuntimeWarning: invalid value encountered in det\n",
      "  r = _umath_linalg.det(a, signature=signature)\n"
     ]
    },
    {
     "name": "stdout",
     "output_type": "stream",
     "text": [
      "1.4 Molecule: TKet 0.014489, Phoenix 0.007323\n"
     ]
    },
    {
     "name": "stderr",
     "output_type": "stream",
     "text": [
      "/Users/anan/miniconda3/lib/python3.12/site-packages/numpy/linalg/linalg.py:2180: RuntimeWarning: divide by zero encountered in det\n",
      "  r = _umath_linalg.det(a, signature=signature)\n",
      "/Users/anan/miniconda3/lib/python3.12/site-packages/numpy/linalg/linalg.py:2180: RuntimeWarning: invalid value encountered in det\n",
      "  r = _umath_linalg.det(a, signature=signature)\n"
     ]
    },
    {
     "name": "stdout",
     "output_type": "stream",
     "text": [
      "1.6 Molecule: TKet 0.023825, Phoenix 0.012089\n"
     ]
    },
    {
     "name": "stderr",
     "output_type": "stream",
     "text": [
      "/Users/anan/miniconda3/lib/python3.12/site-packages/numpy/linalg/linalg.py:2180: RuntimeWarning: divide by zero encountered in det\n",
      "  r = _umath_linalg.det(a, signature=signature)\n",
      "/Users/anan/miniconda3/lib/python3.12/site-packages/numpy/linalg/linalg.py:2180: RuntimeWarning: invalid value encountered in det\n",
      "  r = _umath_linalg.det(a, signature=signature)\n"
     ]
    },
    {
     "name": "stdout",
     "output_type": "stream",
     "text": [
      "1.8 Molecule: TKet 0.036588, Phoenix 0.018655\n"
     ]
    }
   ],
   "source": [
    "infid_tket = []\n",
    "infid_phoenix = []\n",
    "\n",
    "# algo_err = {\n",
    "#     '1e-2': {'tket': [], 'phoenix': []},\n",
    "#     '1e-1': {'tket': [], 'phoenix': []},\n",
    "#     '1e0': {'tket': [], 'phoenix': []},\n",
    "#     '1e1': {'tket': [], 'phoenix': []},\n",
    "#     '1e2': {'tket': [], 'phoenix': []},\n",
    "#     # '1e3': {'tket': [], 'phoenix': []},\n",
    "# }\n",
    "# amplitudes = [1e-1, 1e0, 1e1, 1e2]\n",
    "# amplitudes = [0.5, 1, 2, 3, 4, 5, 6]\n",
    "amplitudes = [0.6, 0.8, 1, 1.2, 1.4, 1.6, 1.8]\n",
    "\n",
    "tket_algo_err = {mol: [] for mol in selected_molecules}\n",
    "phoenix_algo_err = {mol: [] for mol in selected_molecules}\n",
    "\n",
    "\n",
    "for mol in selected_molecules:\n",
    "    print()\n",
    "    print('Molecule:', mol)\n",
    "    json_fname = '../benchmarks/uccsd_json/{}.json'.format(mol)\n",
    "\n",
    "    with open(json_fname, 'r') as f:\n",
    "        data = json.load(f)\n",
    "\n",
    "    \n",
    "    for amp in amplitudes:\n",
    "        ham = models.HamiltonianModel(data['paulis'], data['coeffs'])\n",
    "        ham.coeffs *= amp\n",
    "        u = ham.unitary_evolution()\n",
    "        circ = ham.generate_circuit()\n",
    "\n",
    "        circ_tket = tket_pass(circ)\n",
    "        circ_phoenix = phoenix_pass(ham)\n",
    "\n",
    "        tket_algo_err[mol].append(infidelity(circ_tket.get_unitary(), u))\n",
    "        phoenix_algo_err[mol].append(infidelity(qiskit_to_unitary(circ_phoenix), u))\n",
    "\n",
    "        print('{} Molecule: TKet {:.6f}, Phoenix {:.6f}'.format(amp, tket_algo_err[mol][-1], phoenix_algo_err[mol][-1]))"
   ]
  },
  {
   "cell_type": "code",
   "execution_count": 107,
   "metadata": {},
   "outputs": [
    {
     "data": {
      "text/plain": [
       "['LiH_frz_BK_sto3g', 'LiH_frz_JW_sto3g', 'NH_frz_BK_sto3g', 'NH_frz_JW_sto3g']"
      ]
     },
     "execution_count": 107,
     "metadata": {},
     "output_type": "execute_result"
    }
   ],
   "source": [
    "selected_molecules"
   ]
  },
  {
   "cell_type": "code",
   "execution_count": 109,
   "metadata": {},
   "outputs": [],
   "source": [
    "# 5 Molecule: TKet 0.249304, Phoenix 0.185308\n",
    "\n",
    "# result = pd.DataFrame({\n",
    "#     'amp': amplitudes,\n",
    "#     'tket': tkt_algo_err,\n",
    "result_tket = pd.DataFrame(tket_algo_err)\n",
    "result_phoenix = pd.DataFrame(phoenix_algo_err)\n",
    "result_tket['amp'] = amplitudes\n",
    "result_phoenix['amp'] = amplitudes\n",
    "result_tket.to_csv('tket_algo_err.csv', index=False)\n",
    "result_phoenix.to_csv('phoenix_algo_err.csv', index=False)"
   ]
  },
  {
   "cell_type": "code",
   "execution_count": 112,
   "metadata": {},
   "outputs": [
    {
     "data": {
      "text/html": [
       "<div>\n",
       "<style scoped>\n",
       "    .dataframe tbody tr th:only-of-type {\n",
       "        vertical-align: middle;\n",
       "    }\n",
       "\n",
       "    .dataframe tbody tr th {\n",
       "        vertical-align: top;\n",
       "    }\n",
       "\n",
       "    .dataframe thead th {\n",
       "        text-align: right;\n",
       "    }\n",
       "</style>\n",
       "<table border=\"1\" class=\"dataframe\">\n",
       "  <thead>\n",
       "    <tr style=\"text-align: right;\">\n",
       "      <th></th>\n",
       "      <th>LiH_frz_BK_sto3g</th>\n",
       "      <th>LiH_frz_JW_sto3g</th>\n",
       "      <th>NH_frz_BK_sto3g</th>\n",
       "      <th>NH_frz_JW_sto3g</th>\n",
       "      <th>amp</th>\n",
       "    </tr>\n",
       "  </thead>\n",
       "  <tbody>\n",
       "    <tr>\n",
       "      <th>0</th>\n",
       "      <td>0.000111</td>\n",
       "      <td>0.000111</td>\n",
       "      <td>0.000538</td>\n",
       "      <td>0.000538</td>\n",
       "      <td>0.6</td>\n",
       "    </tr>\n",
       "    <tr>\n",
       "      <th>1</th>\n",
       "      <td>0.000349</td>\n",
       "      <td>0.000349</td>\n",
       "      <td>0.001672</td>\n",
       "      <td>0.001672</td>\n",
       "      <td>0.8</td>\n",
       "    </tr>\n",
       "    <tr>\n",
       "      <th>2</th>\n",
       "      <td>0.000845</td>\n",
       "      <td>0.000845</td>\n",
       "      <td>0.003996</td>\n",
       "      <td>0.003996</td>\n",
       "      <td>1.0</td>\n",
       "    </tr>\n",
       "    <tr>\n",
       "      <th>3</th>\n",
       "      <td>0.001729</td>\n",
       "      <td>0.001729</td>\n",
       "      <td>0.008071</td>\n",
       "      <td>0.008071</td>\n",
       "      <td>1.2</td>\n",
       "    </tr>\n",
       "    <tr>\n",
       "      <th>4</th>\n",
       "      <td>0.003156</td>\n",
       "      <td>0.003156</td>\n",
       "      <td>0.014489</td>\n",
       "      <td>0.014489</td>\n",
       "      <td>1.4</td>\n",
       "    </tr>\n",
       "    <tr>\n",
       "      <th>5</th>\n",
       "      <td>0.005290</td>\n",
       "      <td>0.005290</td>\n",
       "      <td>0.023825</td>\n",
       "      <td>0.023825</td>\n",
       "      <td>1.6</td>\n",
       "    </tr>\n",
       "    <tr>\n",
       "      <th>6</th>\n",
       "      <td>0.008306</td>\n",
       "      <td>0.008306</td>\n",
       "      <td>0.036588</td>\n",
       "      <td>0.036588</td>\n",
       "      <td>1.8</td>\n",
       "    </tr>\n",
       "  </tbody>\n",
       "</table>\n",
       "</div>"
      ],
      "text/plain": [
       "   LiH_frz_BK_sto3g  LiH_frz_JW_sto3g  NH_frz_BK_sto3g  NH_frz_JW_sto3g  amp\n",
       "0          0.000111          0.000111         0.000538         0.000538  0.6\n",
       "1          0.000349          0.000349         0.001672         0.001672  0.8\n",
       "2          0.000845          0.000845         0.003996         0.003996  1.0\n",
       "3          0.001729          0.001729         0.008071         0.008071  1.2\n",
       "4          0.003156          0.003156         0.014489         0.014489  1.4\n",
       "5          0.005290          0.005290         0.023825         0.023825  1.6\n",
       "6          0.008306          0.008306         0.036588         0.036588  1.8"
      ]
     },
     "execution_count": 112,
     "metadata": {},
     "output_type": "execute_result"
    }
   ],
   "source": [
    "result_tket"
   ]
  },
  {
   "cell_type": "code",
   "execution_count": 113,
   "metadata": {},
   "outputs": [
    {
     "data": {
      "text/html": [
       "<div>\n",
       "<style scoped>\n",
       "    .dataframe tbody tr th:only-of-type {\n",
       "        vertical-align: middle;\n",
       "    }\n",
       "\n",
       "    .dataframe tbody tr th {\n",
       "        vertical-align: top;\n",
       "    }\n",
       "\n",
       "    .dataframe thead th {\n",
       "        text-align: right;\n",
       "    }\n",
       "</style>\n",
       "<table border=\"1\" class=\"dataframe\">\n",
       "  <thead>\n",
       "    <tr style=\"text-align: right;\">\n",
       "      <th></th>\n",
       "      <th>LiH_frz_BK_sto3g</th>\n",
       "      <th>LiH_frz_JW_sto3g</th>\n",
       "      <th>NH_frz_BK_sto3g</th>\n",
       "      <th>NH_frz_JW_sto3g</th>\n",
       "      <th>amp</th>\n",
       "    </tr>\n",
       "  </thead>\n",
       "  <tbody>\n",
       "    <tr>\n",
       "      <th>0</th>\n",
       "      <td>0.000063</td>\n",
       "      <td>0.000073</td>\n",
       "      <td>0.000226</td>\n",
       "      <td>0.000270</td>\n",
       "      <td>0.6</td>\n",
       "    </tr>\n",
       "    <tr>\n",
       "      <th>1</th>\n",
       "      <td>0.000198</td>\n",
       "      <td>0.000229</td>\n",
       "      <td>0.000706</td>\n",
       "      <td>0.000839</td>\n",
       "      <td>0.8</td>\n",
       "    </tr>\n",
       "    <tr>\n",
       "      <th>2</th>\n",
       "      <td>0.000481</td>\n",
       "      <td>0.000555</td>\n",
       "      <td>0.001699</td>\n",
       "      <td>0.002009</td>\n",
       "      <td>1.0</td>\n",
       "    </tr>\n",
       "    <tr>\n",
       "      <th>3</th>\n",
       "      <td>0.000989</td>\n",
       "      <td>0.001138</td>\n",
       "      <td>0.003458</td>\n",
       "      <td>0.004067</td>\n",
       "      <td>1.2</td>\n",
       "    </tr>\n",
       "    <tr>\n",
       "      <th>4</th>\n",
       "      <td>0.001814</td>\n",
       "      <td>0.002082</td>\n",
       "      <td>0.006270</td>\n",
       "      <td>0.007323</td>\n",
       "      <td>1.4</td>\n",
       "    </tr>\n",
       "    <tr>\n",
       "      <th>5</th>\n",
       "      <td>0.003058</td>\n",
       "      <td>0.003499</td>\n",
       "      <td>0.010433</td>\n",
       "      <td>0.012089</td>\n",
       "      <td>1.6</td>\n",
       "    </tr>\n",
       "    <tr>\n",
       "      <th>6</th>\n",
       "      <td>0.004834</td>\n",
       "      <td>0.005510</td>\n",
       "      <td>0.016247</td>\n",
       "      <td>0.018655</td>\n",
       "      <td>1.8</td>\n",
       "    </tr>\n",
       "  </tbody>\n",
       "</table>\n",
       "</div>"
      ],
      "text/plain": [
       "   LiH_frz_BK_sto3g  LiH_frz_JW_sto3g  NH_frz_BK_sto3g  NH_frz_JW_sto3g  amp\n",
       "0          0.000063          0.000073         0.000226         0.000270  0.6\n",
       "1          0.000198          0.000229         0.000706         0.000839  0.8\n",
       "2          0.000481          0.000555         0.001699         0.002009  1.0\n",
       "3          0.000989          0.001138         0.003458         0.004067  1.2\n",
       "4          0.001814          0.002082         0.006270         0.007323  1.4\n",
       "5          0.003058          0.003499         0.010433         0.012089  1.6\n",
       "6          0.004834          0.005510         0.016247         0.018655  1.8"
      ]
     },
     "execution_count": 113,
     "metadata": {},
     "output_type": "execute_result"
    }
   ],
   "source": [
    "result_phoenix"
   ]
  },
  {
   "cell_type": "code",
   "execution_count": null,
   "metadata": {},
   "outputs": [],
   "source": []
  },
  {
   "cell_type": "code",
   "execution_count": null,
   "metadata": {},
   "outputs": [
    {
     "name": "stderr",
     "output_type": "stream",
     "text": [
      "/var/folders/r5/1qhftv4d3_g432jmyr9vy6wc0000gn/T/ipykernel_62075/1666155516.py:20: UserWarning: set_ticklabels() should only be used with a fixed number of ticks, i.e. after set_ticks() or using a FixedLocator.\n",
      "  plt.gca().set_xticklabels(['x'] + [str(x) for x in amplitudes[1:]], fontsize=12)\n",
      "/var/folders/r5/1qhftv4d3_g432jmyr9vy6wc0000gn/T/ipykernel_62075/1666155516.py:37: UserWarning: set_ticklabels() should only be used with a fixed number of ticks, i.e. after set_ticks() or using a FixedLocator.\n",
      "  plt.gca().set_xticklabels(['x'] + [str(x) for x in amplitudes[1:]], fontsize=12)\n"
     ]
    },
    {
     "data": {
      "image/png": "[encoded data removed]",
      "text/plain": [
       "<Figure size 1000x450 with 2 Axes>"
      ]
     },
     "metadata": {},
     "output_type": "display_data"
    }
   ],
   "source": [
    "plt.figure(figsize=(10, 4.5))\n",
    "\n",
    "\n",
    "# LiH \n",
    "plt.subplot(1, 2, 1)\n",
    "plt.plot(result_tket['amp'], result_tket['LiH_frz_BK_sto3g'], label='LiH-BK (TKet)', marker='o', color='lightblue', linestyle='-', alpha=0.7)\n",
    "plt.plot(result_phoenix['amp'], result_phoenix['LiH_frz_BK_sto3g'], label='LiH-BK (Phoenix)', marker='o', color='#FF4500', linestyle='-', alpha=0.7)\n",
    "plt.plot(result_tket['amp'], result_tket['LiH_frz_JW_sto3g'], label='LiH-JW (TKet)', marker='x', color='lightblue', linestyle='-.', alpha=0.7)\n",
    "plt.plot(result_phoenix['amp'], result_phoenix['LiH_frz_JW_sto3g'], label='LiH-JW (Phoenix)', marker='x', color='#FF4500', linestyle='-.', alpha=0.7)\n",
    "\n",
    "plt.xlabel('Evolution duration', fontsize=14, fontweight='bold')\n",
    "plt.xticks(fontsize=12)\n",
    "plt.yticks(fontsize=11)\n",
    "plt.ylabel('Algorithmic error (Infidelity)', fontsize=14, fontweight='bold')\n",
    "plt.legend(loc='lower right', fontsize=14, framealpha=1)\n",
    "plt.yscale('log')\n",
    "plt.grid(which='both', linestyle='--', linewidth=0.5)\n",
    "\n",
    "# let xtick to be 'x' to represent times\n",
    "plt.gca().set_xticklabels(['x'] + [str(x) for x in amplitudes[1:]], fontsize=12)\n",
    "def format_func(value, tick_number):\n",
    "    return f'{value:.1f}x'\n",
    "plt.gca().xaxis.set_major_formatter(plt.FuncFormatter(format_func))\n",
    "\n",
    "# NH\n",
    "plt.subplot(1, 2, 2)\n",
    "plt.plot(result_tket['amp'], result_tket['NH_frz_BK_sto3g'], label='NH-BK (TKet)', marker='o', color='lightblue', linestyle='-', alpha=0.7)\n",
    "plt.plot(result_phoenix['amp'], result_phoenix['NH_frz_BK_sto3g'], label='NH-BK (Phoenix)', marker='o', color='#FF4500', linestyle='-', alpha=0.7)\n",
    "plt.plot(result_tket['amp'], result_tket['NH_frz_JW_sto3g'], label='NH-JW (TKet)', marker='x', color='lightblue', linestyle='-.', alpha=0.7)\n",
    "plt.plot(result_phoenix['amp'], result_phoenix['NH_frz_JW_sto3g'], label='NH-JW (Phoenix)', marker='x', color='#FF4500', linestyle='-.', alpha=0.7)\n",
    "\n",
    "plt.xlabel('Evolution duration', fontsize=14, fontweight='bold')\n",
    "plt.xticks(fontsize=12)\n",
    "\n",
    "\n",
    "# let xtick to be 'x' to represent times\n",
    "plt.gca().set_xticklabels(['x'] + [str(x) for x in amplitudes[1:]], fontsize=12)\n",
    "def format_func(value, tick_number):\n",
    "    return f'{value:.1f}x'\n",
    "plt.gca().xaxis.set_major_formatter(plt.FuncFormatter(format_func))\n",
    "\n",
    "plt.yticks(fontsize=11)\n",
    "# plt.ylabel('Algorithmic error (Infidelity)', fontsize=14, fontweight='bold')\n",
    "plt.legend(loc='lower right', fontsize=14, framealpha=1)\n",
    "plt.yscale('log')\n",
    "plt.grid(which='both', linestyle='--', linewidth=0.5)\n",
    "\n",
    "plt.tight_layout()\n",
    "\n",
    "# plt.savefig('./figures/algo_err.pdf')\n",
    "\n",
    "plt.show()"
   ]
  },
  {
   "cell_type": "code",
   "execution_count": null,
   "metadata": {},
   "outputs": [
    {
     "data": {
      "text/plain": [
       "[0.0008445072381085827,\n",
       " 0.0008445072381084717,\n",
       " 0.003996423786951531,\n",
       " 0.0039964237869505315]"
      ]
     },
     "execution_count": 41,
     "metadata": {},
     "output_type": "execute_result"
    }
   ],
   "source": [
    "infid_tket"
   ]
  },
  {
   "cell_type": "code",
   "execution_count": 42,
   "metadata": {},
   "outputs": [
    {
     "data": {
      "text/plain": [
       "[0.0004809289396006111,\n",
       " 0.0005549586197597378,\n",
       " 0.001698807365719146,\n",
       " 0.0020086347776472335]"
      ]
     },
     "execution_count": 42,
     "metadata": {},
     "output_type": "execute_result"
    }
   ],
   "source": [
    "infid_phoenix"
   ]
  },
  {
   "cell_type": "code",
   "execution_count": 37,
   "metadata": {},
   "outputs": [
    {
     "data": {
      "text/plain": [
       "0.0004809289396006111"
      ]
     },
     "execution_count": 37,
     "metadata": {},
     "output_type": "execute_result"
    }
   ],
   "source": [
    "infidelity(qiskit_to_unitary(circ_phoenix), ideal_evolution(json_fname))"
   ]
  },
  {
   "cell_type": "code",
   "execution_count": 38,
   "metadata": {},
   "outputs": [
    {
     "data": {
      "text/plain": [
       "0.0008445072381085827"
      ]
     },
     "execution_count": 38,
     "metadata": {},
     "output_type": "execute_result"
    }
   ],
   "source": [
    "infidelity(circ_tket.get_unitary(), ideal_evolution(json_fname))"
   ]
  },
  {
   "cell_type": "code",
   "execution_count": 29,
   "metadata": {},
   "outputs": [
    {
     "name": "stderr",
     "output_type": "stream",
     "text": [
      "/Users/anan/miniconda3/lib/python3.12/site-packages/numpy/linalg/linalg.py:2180: RuntimeWarning: divide by zero encountered in det\n",
      "  r = _umath_linalg.det(a, signature=signature)\n",
      "/Users/anan/miniconda3/lib/python3.12/site-packages/numpy/linalg/linalg.py:2180: RuntimeWarning: invalid value encountered in det\n",
      "  r = _umath_linalg.det(a, signature=signature)\n"
     ]
    }
   ],
   "source": [
    "# for mol in selected_molecules:\n",
    "#     ...\n",
    "\n",
    "mol = selected_molecules[0]\n",
    "\n",
    "with open('../benchmarks/uccsd_json/{}.json'.format(mol), 'r') as f:\n",
    "    data = json.load(f)\n",
    "\n",
    "ham = models.HamiltonianModel(data['paulis'], data['coeffs'])\n",
    "front_x_gates = [gates.X.on(q) for q in data['front_x_on']]\n",
    "circ_phoenix = ham.phoenix_circuit()\n",
    "# circ_phoenix.prepend(*front_x_gates)\n",
    "circ_phoenix = qiskit_O3_all2all(circ_phoenix.to_qiskit())\n",
    "\n",
    "# circ_phoenix = qiskit.transpile(circ_phoenix.to_qiskit(), optimization_level=0, basis_gates=['u1', 'u2', 'u3', 'cx'])\n",
    "\n",
    "# circ_phoenix = ham.reconfigure_and_generate_circuit()"
   ]
  },
  {
   "cell_type": "code",
   "execution_count": 23,
   "metadata": {},
   "outputs": [
    {
     "data": {
      "text/plain": [
       "0.0007028982917370863"
      ]
     },
     "execution_count": 23,
     "metadata": {},
     "output_type": "execute_result"
    }
   ],
   "source": [
    "infidelity(qiskit_to_unitary(circ_phoenix.to_qiskit()), ham.unitary_evolution())\n"
   ]
  },
  {
   "cell_type": "code",
   "execution_count": 30,
   "metadata": {},
   "outputs": [
    {
     "data": {
      "text/plain": [
       "0.00048092893960072214"
      ]
     },
     "execution_count": 30,
     "metadata": {},
     "output_type": "execute_result"
    }
   ],
   "source": [
    "infidelity(qiskit_to_unitary(circ_phoenix), ham.unitary_evolution())"
   ]
  },
  {
   "cell_type": "code",
   "execution_count": null,
   "metadata": {},
   "outputs": [],
   "source": []
  },
  {
   "cell_type": "code",
   "execution_count": null,
   "metadata": {},
   "outputs": [],
   "source": []
  },
  {
   "cell_type": "code",
   "execution_count": null,
   "metadata": {},
   "outputs": [],
   "source": []
  }
 ],
 "metadata": {
  "kernelspec": {
   "display_name": "base",
   "language": "python",
   "name": "python3"
  },
  "language_info": {
   "codemirror_mode": {
    "name": "ipython",
    "version": 3
   },
   "file_extension": ".py",
   "mimetype": "text/x-python",
   "name": "python",
   "nbconvert_exporter": "python",
   "pygments_lexer": "ipython3",
   "version": "3.12.4"
  }
 },
 "nbformat": 4,
 "nbformat_minor": 2
}
